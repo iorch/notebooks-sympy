{
 "cells": [
  {
   "cell_type": "code",
   "execution_count": 1,
   "id": "7869535e",
   "metadata": {},
   "outputs": [
    {
     "data": {
      "text/markdown": [
       "${}\\bar{\\chi} \\Gamma_{m n} \\psi$"
      ]
     },
     "execution_count": 1,
     "metadata": {},
     "output_type": "execute_result"
    }
   ],
   "source": [
    "{\\chi, \\psi, \\psi_{m}}::Spinor(dimension=4, type=Majorana).\n",
    "{\\chi, \\psi, \\psi_{m}}::AntiCommuting.\n",
    "\\bar{#}::DiracBar.\n",
    "\\Gamma{#}::GammaMatrix.\n",
    "{\\psi_{m}, \\psi, \\chi}::SortOrder.\n",
    "ex:=\\bar{\\chi} \\Gamma_{m n} \\psi;"
   ]
  },
  {
   "cell_type": "code",
   "execution_count": 2,
   "id": "cfd8950c",
   "metadata": {},
   "outputs": [
    {
     "data": {
      "text/markdown": [
       "${}-\\bar{\\psi} \\Gamma_{m n} \\chi$"
      ]
     },
     "execution_count": 2,
     "metadata": {},
     "output_type": "execute_result"
    }
   ],
   "source": [
    "sort_spinors(_);"
   ]
  },
  {
   "cell_type": "code",
   "execution_count": 3,
   "id": "ebc5cadd",
   "metadata": {},
   "outputs": [
    {
     "data": {
      "text/markdown": [
       "${}\\text{Attached property Spinor to~}\\psi.$"
      ]
     },
     "execution_count": 3,
     "metadata": {},
     "output_type": "execute_result"
    }
   ],
   "source": [
    "\\psi::Spinor(dimension=4, type=Majorana);"
   ]
  },
  {
   "cell_type": "code",
   "execution_count": 4,
   "id": "f75d41a6",
   "metadata": {},
   "outputs": [
    {
     "data": {
      "text/markdown": [
       "${}\\text{Attached property Spinor to~}\\psi.$"
      ]
     },
     "execution_count": 4,
     "metadata": {},
     "output_type": "execute_result"
    }
   ],
   "source": [
    "\\psi::Spinor(dimension=4, type=Weyl);"
   ]
  },
  {
   "cell_type": "code",
   "execution_count": 5,
   "id": "3adf10ce",
   "metadata": {},
   "outputs": [
    {
     "data": {
      "text/markdown": [
       "${}\\bar{\\Gamma^{m n p} \\psi}$"
      ]
     },
     "execution_count": 5,
     "metadata": {},
     "output_type": "execute_result"
    }
   ],
   "source": [
    "\\bar{#}::DiracBar.\n",
    "\\psi::Spinor(dimension=4).\n",
    "\\Gamma{#}::GammaMatrix.\n",
    "ex:=\\bar{\\Gamma^{m n p} \\psi};"
   ]
  },
  {
   "cell_type": "code",
   "execution_count": 6,
   "id": "01bc9f00",
   "metadata": {},
   "outputs": [
    {
     "data": {
      "text/markdown": [
       "${}\\bar{\\psi} \\Gamma^{m n p}$"
      ]
     },
     "execution_count": 6,
     "metadata": {},
     "output_type": "execute_result"
    }
   ],
   "source": [
    "expand_diracbar(_);"
   ]
  },
  {
   "cell_type": "code",
   "execution_count": 7,
   "id": "5765048d",
   "metadata": {},
   "outputs": [
    {
     "data": {
      "text/markdown": [
       "${}\\text{Attached property GammaMatrix to~}\\Gamma\\left(\\#\\right).$"
      ]
     },
     "execution_count": 7,
     "metadata": {},
     "output_type": "execute_result"
    },
    {
     "data": {
      "text/markdown": [
       "${}\\Gamma^{m n p}$"
      ]
     },
     "execution_count": 7,
     "metadata": {},
     "output_type": "execute_result"
    }
   ],
   "source": [
    "\\Gamma{#}::GammaMatrix(metric=\\eta);\n",
    "ex:=\\Gamma^{m n p};"
   ]
  },
  {
   "cell_type": "code",
   "execution_count": 8,
   "id": "5399a57d",
   "metadata": {},
   "outputs": [
    {
     "data": {
      "text/markdown": [
       "${}\\Gamma^{m} \\Gamma^{n p}-\\Gamma^{p} \\eta^{m n}+\\Gamma^{n} \\eta^{m p}$"
      ]
     },
     "execution_count": 8,
     "metadata": {},
     "output_type": "execute_result"
    }
   ],
   "source": [
    "split_gamma(_, on_back=False);"
   ]
  },
  {
   "cell_type": "code",
   "execution_count": 9,
   "id": "9c83232b",
   "metadata": {},
   "outputs": [
    {
     "data": {
      "text/markdown": [
       "${}\\text{Attached property Indices(position=free) to~}\\left[m,~ n,~ p,~ q,~ r,~ s\\right].$"
      ]
     },
     "execution_count": 9,
     "metadata": {},
     "output_type": "execute_result"
    },
    {
     "data": {
      "text/markdown": [
       "${}\\text{Attached property Integer to~}\\left[m,~ n,~ p,~ q,~ r,~ s\\right].$"
      ]
     },
     "execution_count": 9,
     "metadata": {},
     "output_type": "execute_result"
    },
    {
     "data": {
      "text/markdown": [
       "${}\\text{Attached property GammaMatrix to~}\\Gamma\\left(\\#\\right).$"
      ]
     },
     "execution_count": 9,
     "metadata": {},
     "output_type": "execute_result"
    },
    {
     "data": {
      "text/markdown": [
       "${}\\text{Attached property DiracBar to~}\\bar{\\#}.$"
      ]
     },
     "execution_count": 9,
     "metadata": {},
     "output_type": "execute_result"
    },
    {
     "data": {
      "text/markdown": [
       "${}\\text{Attached property Spinor to~}\\left[\\theta,~ \\lambda,~ \\psi,~ \\chi\\right].$"
      ]
     },
     "execution_count": 9,
     "metadata": {},
     "output_type": "execute_result"
    },
    {
     "data": {
      "text/markdown": [
       "${}\\bar{\\theta} \\Gamma_{m} \\chi \\bar{\\psi} \\Gamma^{m} \\lambda$"
      ]
     },
     "execution_count": 9,
     "metadata": {},
     "output_type": "execute_result"
    }
   ],
   "source": [
    "{m,n,p,q,r,s}::Indices;\n",
    "{m,n,p,q,r,s}::Integer(0..3);\n",
    "\\Gamma{#}::GammaMatrix;\n",
    "\\bar{#}::DiracBar;\n",
    "{\\theta, \\lambda, \\psi, \\chi}::Spinor;\n",
    "ex:=\\bar{\\theta} \\Gamma_{m} \\chi \\bar{\\psi} \\Gamma^{m} \\lambda;"
   ]
  },
  {
   "cell_type": "code",
   "execution_count": 10,
   "id": "bcd99dea",
   "metadata": {},
   "outputs": [
    {
     "data": {
      "text/markdown": [
       "${} - \\frac{1}{4}\\bar{\\theta} \\Gamma_{m} \\Gamma^{m} \\lambda \\bar{\\psi} \\chi - \\frac{1}{4}\\bar{\\theta} \\Gamma_{m} \\Gamma^{n} \\Gamma^{m} \\lambda \\bar{\\psi} \\Gamma^{n} \\chi - \\frac{1}{8}\\bar{\\theta} \\Gamma_{m} \\Gamma^{n p} \\Gamma^{m} \\lambda \\bar{\\psi} \\Gamma^{p n} \\chi$"
      ]
     },
     "execution_count": 10,
     "metadata": {},
     "output_type": "execute_result"
    }
   ],
   "source": [
    "fierz(_, $\\theta, \\lambda, \\psi, \\chi$);"
   ]
  },
  {
   "cell_type": "code",
   "execution_count": null,
   "id": "e5387f2f",
   "metadata": {},
   "outputs": [],
   "source": []
  }
 ],
 "metadata": {
  "kernelspec": {
   "display_name": "Cadabra",
   "language": "python",
   "name": "cadabra"
  },
  "language_info": {
   "file_extension": ".cdb",
   "mimetype": "text/cadabra",
   "name": "cadabra",
   "version": "2.0.0"
  }
 },
 "nbformat": 4,
 "nbformat_minor": 5
}
