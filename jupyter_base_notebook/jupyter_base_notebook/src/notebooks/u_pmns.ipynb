{
 "cells": [
  {
   "cell_type": "code",
   "execution_count": 1,
   "id": "32563b40",
   "metadata": {},
   "outputs": [],
   "source": [
    "import sympy as sym"
   ]
  },
  {
   "cell_type": "markdown",
   "id": "97f61602",
   "metadata": {},
   "source": [
    "# Introduccion\n",
    "\n",
    "- Campos cuánticos fermiónicos"
   ]
  },
  {
   "cell_type": "code",
   "execution_count": 2,
   "id": "1e9de3fb",
   "metadata": {},
   "outputs": [
    {
     "data": {
      "text/latex": [
       "$\\displaystyle \\left[\\begin{matrix}\\nu_{e}\\\\\\nu_{\\mu}\\\\\\nu_{\\tau}\\end{matrix}\\right]$"
      ],
      "text/plain": [
       "Matrix([\n",
       "[  nu_e],\n",
       "[ nu_mu],\n",
       "[nu_tau]])"
      ]
     },
     "execution_count": 2,
     "metadata": {},
     "output_type": "execute_result"
    }
   ],
   "source": [
    "nu_e, nu_mu, nu_tau = sym.symbols('nu_e, nu_mu, nu_tau') \n",
    "neutrinos = sym.Matrix([nu_e, nu_mu, nu_tau])\n",
    "neutrinos"
   ]
  },
  {
   "cell_type": "code",
   "execution_count": 3,
   "id": "32c29563",
   "metadata": {},
   "outputs": [
    {
     "data": {
      "text/latex": [
       "$\\displaystyle \\left[\\begin{matrix}1 & 0 & 0\\\\0 & c_{23} & s_{23}\\\\0 & - s_{23} & c_{23}\\end{matrix}\\right]$"
      ],
      "text/plain": [
       "Matrix([\n",
       "[1,    0,   0],\n",
       "[0,  c23, s23],\n",
       "[0, -s23, c23]])"
      ]
     },
     "execution_count": 3,
     "metadata": {},
     "output_type": "execute_result"
    }
   ],
   "source": [
    "c23, s23 = sym.symbols('c23, s23')\n",
    "\n",
    "u23 = sym.Matrix([[1,0.,0.],[0.,c23,s23],[0.,-s23,c23]])\n",
    "u23"
   ]
  },
  {
   "cell_type": "code",
   "execution_count": 4,
   "id": "de718b51",
   "metadata": {},
   "outputs": [
    {
     "data": {
      "text/latex": [
       "$\\displaystyle \\left[\\begin{matrix}c_{13} & 0 & s_{13} e^{- i \\delta_{cp}}\\\\0 & 1 & 0\\\\- s_{13} e^{i \\delta_{cp}} & 0 & c_{13}\\end{matrix}\\right]$"
      ],
      "text/plain": [
       "Matrix([\n",
       "[                 c13, 0, s13*exp(-I*delta_cp)],\n",
       "[                   0, 1,                    0],\n",
       "[-s13*exp(I*delta_cp), 0,                  c13]])"
      ]
     },
     "execution_count": 4,
     "metadata": {},
     "output_type": "execute_result"
    }
   ],
   "source": [
    "d_cp = sym.symbols('delta_cp')\n",
    "c13, s13 = sym.symbols('c13, s13')\n",
    "u13 = sym.Matrix([[c13,0.,s13*sym.exp(-sym.I*d_cp)],[0.,1,0.],[-s13*sym.exp(sym.I*d_cp),0.,c13]])\n",
    "u13"
   ]
  },
  {
   "cell_type": "code",
   "execution_count": 5,
   "id": "1133f289",
   "metadata": {},
   "outputs": [
    {
     "data": {
      "text/latex": [
       "$\\displaystyle \\left[\\begin{matrix}c_{12} & s_{12} & 0\\\\- s_{12} & c_{12} & 0\\\\0 & 0 & 1\\end{matrix}\\right]$"
      ],
      "text/plain": [
       "Matrix([\n",
       "[ c12, s12, 0],\n",
       "[-s12, c12, 0],\n",
       "[   0,   0, 1]])"
      ]
     },
     "execution_count": 5,
     "metadata": {},
     "output_type": "execute_result"
    }
   ],
   "source": [
    "c12, s12 = sym.symbols('c12, s12')\n",
    "u12 = sym.Matrix([[c12,s12,0.],[-s12,c12,0.],[0.,0.,1]])\n",
    "u12"
   ]
  },
  {
   "cell_type": "code",
   "execution_count": 6,
   "id": "bffe24a4",
   "metadata": {},
   "outputs": [
    {
     "data": {
      "text/latex": [
       "$\\displaystyle \\left[\\begin{matrix}e^{i \\eta_{1}} & 0 & 0\\\\0 & e^{i \\eta_{2}} & 0\\\\0 & 0 & 1\\end{matrix}\\right]$"
      ],
      "text/plain": [
       "Matrix([\n",
       "[exp(I*eta1),           0, 0],\n",
       "[          0, exp(I*eta2), 0],\n",
       "[          0,           0, 1]])"
      ]
     },
     "execution_count": 6,
     "metadata": {},
     "output_type": "execute_result"
    }
   ],
   "source": [
    "eta1, eta2 = sym.symbols('eta1, eta2')\n",
    "eta_m = sym.Matrix([[sym.exp(sym.I*eta1),0.,0.],[0.,sym.exp(sym.I*eta2),0.],[0.,0.,1]])\n",
    "eta_m"
   ]
  },
  {
   "cell_type": "code",
   "execution_count": 7,
   "id": "21e85b4f",
   "metadata": {},
   "outputs": [
    {
     "data": {
      "text/latex": [
       "$\\displaystyle \\left[\\begin{matrix}c_{12} c_{13} & c_{13} s_{12} & s_{13} e^{- i \\delta_{cp}}\\\\- c_{12} s_{13} s_{23} e^{i \\delta_{cp}} - c_{23} s_{12} & c_{12} c_{23} - s_{12} s_{13} s_{23} e^{i \\delta_{cp}} & c_{13} s_{23}\\\\- c_{12} c_{23} s_{13} e^{i \\delta_{cp}} + s_{12} s_{23} & - c_{12} s_{23} - c_{23} s_{12} s_{13} e^{i \\delta_{cp}} & c_{13} c_{23}\\end{matrix}\\right]$"
      ],
      "text/plain": [
       "Matrix([\n",
       "[                               c12*c13,                                c13*s12, s13*exp(-I*delta_cp)],\n",
       "[-c12*s13*s23*exp(I*delta_cp) - c23*s12,  c12*c23 - s12*s13*s23*exp(I*delta_cp),              c13*s23],\n",
       "[-c12*c23*s13*exp(I*delta_cp) + s12*s23, -c12*s23 - c23*s12*s13*exp(I*delta_cp),              c13*c23]])"
      ]
     },
     "execution_count": 7,
     "metadata": {},
     "output_type": "execute_result"
    }
   ],
   "source": [
    "U = u23*u13*u12\n",
    "U_m = U*eta_m\n",
    "U"
   ]
  },
  {
   "cell_type": "code",
   "execution_count": 8,
   "id": "c59e6556",
   "metadata": {},
   "outputs": [
    {
     "data": {
      "text/latex": [
       "$\\displaystyle \\left[\\begin{matrix}c_{12} c_{13} e^{i \\eta_{1}} & c_{13} s_{12} e^{i \\eta_{2}} & s_{13} e^{- i \\delta_{cp}}\\\\\\left(- c_{12} s_{13} s_{23} e^{i \\delta_{cp}} - c_{23} s_{12}\\right) e^{i \\eta_{1}} & \\left(c_{12} c_{23} - s_{12} s_{13} s_{23} e^{i \\delta_{cp}}\\right) e^{i \\eta_{2}} & c_{13} s_{23}\\\\\\left(- c_{12} c_{23} s_{13} e^{i \\delta_{cp}} + s_{12} s_{23}\\right) e^{i \\eta_{1}} & \\left(- c_{12} s_{23} - c_{23} s_{12} s_{13} e^{i \\delta_{cp}}\\right) e^{i \\eta_{2}} & c_{13} c_{23}\\end{matrix}\\right]$"
      ],
      "text/plain": [
       "Matrix([\n",
       "[                                 c12*c13*exp(I*eta1),                                  c13*s12*exp(I*eta2), s13*exp(-I*delta_cp)],\n",
       "[(-c12*s13*s23*exp(I*delta_cp) - c23*s12)*exp(I*eta1),  (c12*c23 - s12*s13*s23*exp(I*delta_cp))*exp(I*eta2),              c13*s23],\n",
       "[(-c12*c23*s13*exp(I*delta_cp) + s12*s23)*exp(I*eta1), (-c12*s23 - c23*s12*s13*exp(I*delta_cp))*exp(I*eta2),              c13*c23]])"
      ]
     },
     "execution_count": 8,
     "metadata": {},
     "output_type": "execute_result"
    }
   ],
   "source": [
    "U_m"
   ]
  },
  {
   "cell_type": "code",
   "execution_count": 9,
   "id": "b93cae88",
   "metadata": {},
   "outputs": [
    {
     "data": {
      "text/latex": [
       "$\\displaystyle \\left[\\begin{matrix}c_{12} c_{13} \\nu_{e} e^{i \\eta_{1}} + c_{13} \\nu_{\\mu} s_{12} e^{i \\eta_{2}} + \\nu_{\\tau} s_{13} e^{- i \\delta_{cp}}\\\\c_{13} \\nu_{\\tau} s_{23} + \\nu_{e} \\left(- c_{12} s_{13} s_{23} e^{i \\delta_{cp}} - c_{23} s_{12}\\right) e^{i \\eta_{1}} + \\nu_{\\mu} \\left(c_{12} c_{23} - s_{12} s_{13} s_{23} e^{i \\delta_{cp}}\\right) e^{i \\eta_{2}}\\\\c_{13} c_{23} \\nu_{\\tau} + \\nu_{e} \\left(- c_{12} c_{23} s_{13} e^{i \\delta_{cp}} + s_{12} s_{23}\\right) e^{i \\eta_{1}} + \\nu_{\\mu} \\left(- c_{12} s_{23} - c_{23} s_{12} s_{13} e^{i \\delta_{cp}}\\right) e^{i \\eta_{2}}\\end{matrix}\\right]$"
      ],
      "text/plain": [
       "Matrix([\n",
       "[                                                     c12*c13*nu_e*exp(I*eta1) + c13*nu_mu*s12*exp(I*eta2) + nu_tau*s13*exp(-I*delta_cp)],\n",
       "[ c13*nu_tau*s23 + nu_e*(-c12*s13*s23*exp(I*delta_cp) - c23*s12)*exp(I*eta1) + nu_mu*(c12*c23 - s12*s13*s23*exp(I*delta_cp))*exp(I*eta2)],\n",
       "[c13*c23*nu_tau + nu_e*(-c12*c23*s13*exp(I*delta_cp) + s12*s23)*exp(I*eta1) + nu_mu*(-c12*s23 - c23*s12*s13*exp(I*delta_cp))*exp(I*eta2)]])"
      ]
     },
     "execution_count": 9,
     "metadata": {},
     "output_type": "execute_result"
    }
   ],
   "source": [
    "U_m*neutrino"
   ]
  },
  {
   "cell_type": "code",
   "execution_count": null,
   "id": "ce503630",
   "metadata": {},
   "outputs": [],
   "source": []
  }
 ],
 "metadata": {
  "kernelspec": {
   "display_name": "Python 3 (ipykernel)",
   "language": "python",
   "name": "python3"
  },
  "language_info": {
   "codemirror_mode": {
    "name": "ipython",
    "version": 3
   },
   "file_extension": ".py",
   "mimetype": "text/x-python",
   "name": "python",
   "nbconvert_exporter": "python",
   "pygments_lexer": "ipython3",
   "version": "3.9.7"
  }
 },
 "nbformat": 4,
 "nbformat_minor": 5
}
