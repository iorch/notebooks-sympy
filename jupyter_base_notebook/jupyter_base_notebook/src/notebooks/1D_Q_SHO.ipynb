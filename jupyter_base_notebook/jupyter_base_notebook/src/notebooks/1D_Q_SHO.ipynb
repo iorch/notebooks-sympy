{
 "cells": [
  {
   "cell_type": "code",
   "execution_count": 1,
   "id": "2879affb",
   "metadata": {},
   "outputs": [],
   "source": [
    "import sympy\n",
    "from sympy import interactive\n",
    "from sympy.interactive import init_printing"
   ]
  },
  {
   "cell_type": "code",
   "execution_count": 2,
   "id": "7eb0b303",
   "metadata": {},
   "outputs": [],
   "source": [
    "init_printing(use_latex=True)"
   ]
  },
  {
   "cell_type": "code",
   "execution_count": 3,
   "id": "3c9945cd",
   "metadata": {},
   "outputs": [],
   "source": [
    "\n",
    "from sympy import Symbol, Integer\n",
    "from sympy.physics.quantum import (Dagger,\n",
    "                                  qapply,\n",
    "                                  represent,\n",
    "                                  InnerProduct,\n",
    "                                  Commutator)\n",
    "from sympy.physics.quantum.sho1d import (RaisingOp,\n",
    "                                        LoweringOp,\n",
    "                                        NumberOp,\n",
    "                                        Hamiltonian,\n",
    "                                        SHOKet,\n",
    "                                        SHOBra)\n",
    "                                        \n"
   ]
  },
  {
   "cell_type": "code",
   "execution_count": 4,
   "id": "65c434ca",
   "metadata": {},
   "outputs": [],
   "source": [
    "b = SHOBra('b')\n",
    "b0 = SHOBra(0)\n",
    "b1 = SHOBra(1)\n",
    "b2 = SHOBra(2)\n",
    "\n",
    "k = SHOKet('k')\n",
    "k0 = SHOKet(0)\n",
    "k1 = SHOKet(1)\n",
    "k2 = SHOKet(2)"
   ]
  },
  {
   "cell_type": "code",
   "execution_count": 5,
   "id": "71f80707",
   "metadata": {},
   "outputs": [
    {
     "data": {
      "image/png": "[encoded data removed]",
      "text/latex": [
       "$\\displaystyle {\\left\\langle b\\right|}$"
      ],
      "text/plain": [
       "⟨b❘"
      ]
     },
     "execution_count": 5,
     "metadata": {},
     "output_type": "execute_result"
    }
   ],
   "source": [
    "b"
   ]
  },
  {
   "cell_type": "code",
   "execution_count": 6,
   "id": "bb306ed0",
   "metadata": {},
   "outputs": [
    {
     "data": {
      "image/png": "[encoded data removed]",
      "text/latex": [
       "$\\displaystyle {\\left\\langle 0\\right|}$"
      ],
      "text/plain": [
       "⟨0❘"
      ]
     },
     "execution_count": 6,
     "metadata": {},
     "output_type": "execute_result"
    }
   ],
   "source": [
    "b0"
   ]
  },
  {
   "cell_type": "code",
   "execution_count": 7,
   "id": "32444491",
   "metadata": {},
   "outputs": [
    {
     "data": {
      "image/png": "[encoded data removed]",
      "text/latex": [
       "$\\displaystyle {\\left\\langle 1\\right|}$"
      ],
      "text/plain": [
       "⟨1❘"
      ]
     },
     "execution_count": 7,
     "metadata": {},
     "output_type": "execute_result"
    }
   ],
   "source": [
    "b1"
   ]
  },
  {
   "cell_type": "code",
   "execution_count": 8,
   "id": "e918e011",
   "metadata": {},
   "outputs": [
    {
     "data": {
      "image/png": "[encoded data removed]",
      "text/latex": [
       "$\\displaystyle {\\left\\langle b\\right|}$"
      ],
      "text/plain": [
       "⟨b❘"
      ]
     },
     "execution_count": 8,
     "metadata": {},
     "output_type": "execute_result"
    }
   ],
   "source": [
    "b.rewrite('xp')"
   ]
  },
  {
   "cell_type": "code",
   "execution_count": 9,
   "id": "29513e36",
   "metadata": {},
   "outputs": [],
   "source": [
    "ad = RaisingOp('a')\n",
    "a = LoweringOp('a')\n",
    "N = NumberOp('N')\n",
    "H = Hamiltonian('H')"
   ]
  },
  {
   "cell_type": "code",
   "execution_count": 10,
   "id": "321e07a4",
   "metadata": {},
   "outputs": [
    {
     "data": {
      "image/png": "[encoded data removed]",
      "text/latex": [
       "$\\displaystyle \\frac{\\sqrt{2} \\left(m \\omega X - i Px\\right)}{2 \\sqrt{\\hbar} \\sqrt{m \\omega}}$"
      ],
      "text/plain": [
       "√2⋅(m⋅ω⋅X - ⅈ⋅Px)\n",
       "─────────────────\n",
       "          _____  \n",
       "   2⋅√ℏ⋅╲╱ m⋅ω   "
      ]
     },
     "execution_count": 10,
     "metadata": {},
     "output_type": "execute_result"
    }
   ],
   "source": [
    "ad.rewrite('xp')"
   ]
  },
  {
   "cell_type": "code",
   "execution_count": 11,
   "id": "4c9b0046",
   "metadata": {},
   "outputs": [
    {
     "data": {
      "image/png": "[encoded data removed]",
      "text/latex": [
       "$\\displaystyle \\frac{\\sqrt{2} \\left(m \\omega X + i Px\\right)}{2 \\sqrt{\\hbar} \\sqrt{m \\omega}}$"
      ],
      "text/plain": [
       "√2⋅(m⋅ω⋅X + ⅈ⋅Px)\n",
       "─────────────────\n",
       "          _____  \n",
       "   2⋅√ℏ⋅╲╱ m⋅ω   "
      ]
     },
     "execution_count": 11,
     "metadata": {},
     "output_type": "execute_result"
    }
   ],
   "source": [
    "a.rewrite('xp')"
   ]
  },
  {
   "cell_type": "code",
   "execution_count": 12,
   "id": "f612c808",
   "metadata": {},
   "outputs": [
    {
     "data": {
      "image/png": "[encoded data removed]",
      "text/latex": [
       "$\\displaystyle - \\frac{1}{2} + \\frac{m^{2} \\omega^{2} X^{2} + Px^{2}}{2 \\hbar m \\omega}$"
      ],
      "text/plain": [
       "       2  2  2     2\n",
       "  1   m ⋅ω ⋅X  + Px \n",
       "- ─ + ──────────────\n",
       "  2      2⋅ℏ⋅m⋅ω    "
      ]
     },
     "execution_count": 12,
     "metadata": {},
     "output_type": "execute_result"
    }
   ],
   "source": [
    "N.rewrite('xp')"
   ]
  },
  {
   "cell_type": "code",
   "execution_count": 13,
   "id": "23acfa4d",
   "metadata": {},
   "outputs": [
    {
     "data": {
      "image/png": "[encoded data removed]",
      "text/latex": [
       "$\\displaystyle \\frac{m^{2} \\omega^{2} X^{2} + Px^{2}}{2 m}$"
      ],
      "text/plain": [
       " 2  2  2     2\n",
       "m ⋅ω ⋅X  + Px \n",
       "──────────────\n",
       "     2⋅m      "
      ]
     },
     "execution_count": 13,
     "metadata": {},
     "output_type": "execute_result"
    }
   ],
   "source": [
    "H.rewrite('xp')"
   ]
  },
  {
   "cell_type": "code",
   "execution_count": 14,
   "id": "7d47dd32",
   "metadata": {},
   "outputs": [
    {
     "data": {
      "image/png": "[encoded data removed]",
      "text/latex": [
       "$\\displaystyle a^{\\dagger} a$"
      ],
      "text/plain": [
       " †  \n",
       "a ⋅a"
      ]
     },
     "execution_count": 14,
     "metadata": {},
     "output_type": "execute_result"
    }
   ],
   "source": [
    "N.rewrite('a')"
   ]
  },
  {
   "cell_type": "code",
   "execution_count": 15,
   "id": "3fa40bc0",
   "metadata": {},
   "outputs": [
    {
     "data": {
      "image/png": "[encoded data removed]",
      "text/latex": [
       "$\\displaystyle \\hbar \\omega \\left(\\frac{1}{2} + a^{\\dagger} a\\right)$"
      ],
      "text/plain": [
       "    ⎛1    †  ⎞\n",
       "ℏ⋅ω⋅⎜─ + a ⋅a⎟\n",
       "    ⎝2       ⎠"
      ]
     },
     "execution_count": 15,
     "metadata": {},
     "output_type": "execute_result"
    }
   ],
   "source": [
    "H.rewrite('a')"
   ]
  },
  {
   "cell_type": "code",
   "execution_count": 16,
   "id": "f4837e22",
   "metadata": {},
   "outputs": [
    {
     "data": {
      "image/png": "[encoded data removed]",
      "text/latex": [
       "$\\displaystyle \\sqrt{k + 1} {\\left|k + 1\\right\\rangle }$"
      ],
      "text/plain": [
       "  _______        \n",
       "╲╱ k + 1 ⋅❘k + 1⟩"
      ]
     },
     "execution_count": 16,
     "metadata": {},
     "output_type": "execute_result"
    }
   ],
   "source": [
    "qapply(ad*k)"
   ]
  },
  {
   "cell_type": "code",
   "execution_count": 17,
   "id": "ae7dc248",
   "metadata": {},
   "outputs": [
    {
     "data": {
      "image/png": "[encoded data removed]",
      "text/latex": [
       "$\\displaystyle \\sqrt{k} {\\left|k - 1\\right\\rangle }$"
      ],
      "text/plain": [
       "√k⋅❘k - 1⟩"
      ]
     },
     "execution_count": 17,
     "metadata": {},
     "output_type": "execute_result"
    }
   ],
   "source": [
    "qapply(a*k)"
   ]
  },
  {
   "cell_type": "code",
   "execution_count": 18,
   "id": "7026fd99",
   "metadata": {},
   "outputs": [
    {
     "data": {
      "image/png": "[encoded data removed]",
      "text/latex": [
       "$\\displaystyle k {\\left|k\\right\\rangle }$"
      ],
      "text/plain": [
       "k⋅❘k⟩"
      ]
     },
     "execution_count": 18,
     "metadata": {},
     "output_type": "execute_result"
    }
   ],
   "source": [
    "qapply(N*k)"
   ]
  },
  {
   "cell_type": "code",
   "execution_count": 19,
   "id": "04cc023a",
   "metadata": {},
   "outputs": [
    {
     "data": {
      "image/png": "[encoded data removed]",
      "text/latex": [
       "$\\displaystyle \\hbar k \\omega {\\left|k\\right\\rangle } + \\frac{\\hbar \\omega {\\left|k\\right\\rangle }}{2}$"
      ],
      "text/plain": [
       "            ℏ⋅ω⋅❘k⟩\n",
       "ℏ⋅k⋅ω⋅❘k⟩ + ───────\n",
       "               2   "
      ]
     },
     "execution_count": 19,
     "metadata": {},
     "output_type": "execute_result"
    }
   ],
   "source": [
    "qapply(H*k)"
   ]
  },
  {
   "cell_type": "code",
   "execution_count": 20,
   "id": "2a56538c",
   "metadata": {},
   "outputs": [
    {
     "data": {
      "image/png": "[encoded data removed]",
      "text/latex": [
       "$\\displaystyle \\sqrt{b + 1}^{\\dagger} {\\left\\langle b + 1\\right|}$"
      ],
      "text/plain": [
       "         †        \n",
       "  _______         \n",
       "╲╱ b + 1  ⋅⟨b + 1❘"
      ]
     },
     "execution_count": 20,
     "metadata": {},
     "output_type": "execute_result"
    }
   ],
   "source": [
    "Dagger(qapply(ad*Dagger(b)))"
   ]
  },
  {
   "cell_type": "code",
   "execution_count": 21,
   "id": "b37df494",
   "metadata": {},
   "outputs": [
    {
     "data": {
      "image/png": "[encoded data removed]",
      "text/latex": [
       "$\\displaystyle \\sqrt{b}^{\\dagger} {\\left\\langle b - 1\\right|}$"
      ],
      "text/plain": [
       "  †        \n",
       "√b ⋅⟨b - 1❘"
      ]
     },
     "execution_count": 21,
     "metadata": {},
     "output_type": "execute_result"
    }
   ],
   "source": [
    "Dagger(qapply(a*Dagger(b)))"
   ]
  },
  {
   "cell_type": "code",
   "execution_count": 22,
   "id": "4ca6c49e",
   "metadata": {},
   "outputs": [
    {
     "data": {
      "image/png": "[encoded data removed]",
      "text/latex": [
       "$\\displaystyle b^{\\dagger} {\\left\\langle b\\right|}$"
      ],
      "text/plain": [
       " †    \n",
       "b ⋅⟨b❘"
      ]
     },
     "execution_count": 22,
     "metadata": {},
     "output_type": "execute_result"
    }
   ],
   "source": [
    "Dagger(qapply(N*Dagger(b)))"
   ]
  },
  {
   "cell_type": "code",
   "execution_count": 23,
   "id": "408600f1",
   "metadata": {},
   "outputs": [
    {
     "data": {
      "image/png": "[encoded data removed]",
      "text/latex": [
       "$\\displaystyle \\hbar b^{\\dagger} \\omega^{\\dagger} {\\left\\langle b\\right|} + \\frac{\\hbar \\omega^{\\dagger} {\\left\\langle b\\right|}}{2}$"
      ],
      "text/plain": [
       "                 †    \n",
       "   †  †       ℏ⋅ω ⋅⟨b❘\n",
       "ℏ⋅b ⋅ω ⋅⟨b❘ + ────────\n",
       "                 2    "
      ]
     },
     "execution_count": 23,
     "metadata": {},
     "output_type": "execute_result"
    }
   ],
   "source": [
    "Dagger(qapply(H*Dagger(b)))"
   ]
  },
  {
   "cell_type": "code",
   "execution_count": 24,
   "id": "a3a1496a",
   "metadata": {},
   "outputs": [
    {
     "data": {
      "image/png": "[encoded data removed]",
      "text/latex": [
       "$\\displaystyle 1$"
      ],
      "text/plain": [
       "1"
      ]
     },
     "execution_count": 24,
     "metadata": {},
     "output_type": "execute_result"
    }
   ],
   "source": [
    "Commutator(a,ad).doit()"
   ]
  },
  {
   "cell_type": "code",
   "execution_count": 25,
   "id": "5a007b61",
   "metadata": {},
   "outputs": [
    {
     "data": {
      "image/png": "[encoded data removed]",
      "text/latex": [
       "$\\displaystyle a$"
      ],
      "text/plain": [
       "a"
      ]
     },
     "execution_count": 25,
     "metadata": {},
     "output_type": "execute_result"
    }
   ],
   "source": [
    "Commutator(a,N).doit()"
   ]
  },
  {
   "cell_type": "code",
   "execution_count": 26,
   "id": "6a8e73b1",
   "metadata": {},
   "outputs": [
    {
     "data": {
      "image/png": "[encoded data removed]",
      "text/latex": [
       "$\\displaystyle a^{\\dagger}$"
      ],
      "text/plain": [
       " †\n",
       "a "
      ]
     },
     "execution_count": 26,
     "metadata": {},
     "output_type": "execute_result"
    }
   ],
   "source": [
    "Commutator(N,ad).doit()"
   ]
  },
  {
   "cell_type": "code",
   "execution_count": 27,
   "id": "c50515c1",
   "metadata": {},
   "outputs": [
    {
     "data": {
      "image/png": "[encoded data removed]",
      "text/latex": [
       "$\\displaystyle H a^{\\dagger} - a^{\\dagger} H$"
      ],
      "text/plain": [
       "   †    †  \n",
       "H⋅a  - a ⋅H"
      ]
     },
     "execution_count": 27,
     "metadata": {},
     "output_type": "execute_result"
    }
   ],
   "source": [
    "Commutator(H,ad).doit()"
   ]
  },
  {
   "cell_type": "code",
   "execution_count": 28,
   "id": "d9224bee",
   "metadata": {},
   "outputs": [
    {
     "data": {
      "image/png": "[encoded data removed]",
      "text/latex": [
       "$\\displaystyle - (H a - a H)$"
      ],
      "text/plain": [
       "-(H⋅a - a⋅H)"
      ]
     },
     "execution_count": 28,
     "metadata": {},
     "output_type": "execute_result"
    }
   ],
   "source": [
    "Commutator(a,H).doit()"
   ]
  },
  {
   "cell_type": "code",
   "execution_count": 29,
   "id": "6f7db2e8",
   "metadata": {},
   "outputs": [
    {
     "data": {
      "text/latex": [
       "$\\displaystyle \\left[\\begin{matrix}1 & 0 & 0 & 0\\end{matrix}\\right]$"
      ],
      "text/plain": [
       "[1  0  0  0]"
      ]
     },
     "execution_count": 29,
     "metadata": {},
     "output_type": "execute_result"
    }
   ],
   "source": [
    "represent(b0)"
   ]
  },
  {
   "cell_type": "code",
   "execution_count": 30,
   "id": "de3a889b",
   "metadata": {},
   "outputs": [
    {
     "data": {
      "text/latex": [
       "$\\displaystyle \\left[\\begin{matrix}1\\\\0\\\\0\\\\0\\end{matrix}\\right]$"
      ],
      "text/plain": [
       "⎡1⎤\n",
       "⎢ ⎥\n",
       "⎢0⎥\n",
       "⎢ ⎥\n",
       "⎢0⎥\n",
       "⎢ ⎥\n",
       "⎣0⎦"
      ]
     },
     "execution_count": 30,
     "metadata": {},
     "output_type": "execute_result"
    }
   ],
   "source": [
    "represent(k0)"
   ]
  },
  {
   "cell_type": "code",
   "execution_count": 31,
   "id": "39070346",
   "metadata": {},
   "outputs": [
    {
     "data": {
      "text/latex": [
       "$\\displaystyle \\left[\\begin{matrix}0\\\\1\\\\0\\\\0\\end{matrix}\\right]$"
      ],
      "text/plain": [
       "⎡0⎤\n",
       "⎢ ⎥\n",
       "⎢1⎥\n",
       "⎢ ⎥\n",
       "⎢0⎥\n",
       "⎢ ⎥\n",
       "⎣0⎦"
      ]
     },
     "execution_count": 31,
     "metadata": {},
     "output_type": "execute_result"
    }
   ],
   "source": [
    "represent(k1)"
   ]
  },
  {
   "cell_type": "code",
   "execution_count": 32,
   "id": "46199cd6",
   "metadata": {},
   "outputs": [
    {
     "data": {
      "text/latex": [
       "$\\displaystyle \\left[\\begin{matrix}0 & 1 & 0 & 0\\\\0 & 0 & \\sqrt{2} & 0\\\\0 & 0 & 0 & \\sqrt{3}\\\\0 & 0 & 0 & 0\\end{matrix}\\right]$"
      ],
      "text/plain": [
       "⎡0  1  0   0 ⎤\n",
       "⎢            ⎥\n",
       "⎢0  0  √2  0 ⎥\n",
       "⎢            ⎥\n",
       "⎢0  0  0   √3⎥\n",
       "⎢            ⎥\n",
       "⎣0  0  0   0 ⎦"
      ]
     },
     "execution_count": 32,
     "metadata": {},
     "output_type": "execute_result"
    }
   ],
   "source": [
    "represent(a)"
   ]
  },
  {
   "cell_type": "code",
   "execution_count": 33,
   "id": "3c528419",
   "metadata": {},
   "outputs": [
    {
     "data": {
      "text/latex": [
       "$\\displaystyle \\left[\\begin{matrix}0 & 0 & 0 & 0\\\\1 & 0 & 0 & 0\\\\0 & \\sqrt{2} & 0 & 0\\\\0 & 0 & \\sqrt{3} & 0\\end{matrix}\\right]$"
      ],
      "text/plain": [
       "⎡0  0   0   0⎤\n",
       "⎢            ⎥\n",
       "⎢1  0   0   0⎥\n",
       "⎢            ⎥\n",
       "⎢0  √2  0   0⎥\n",
       "⎢            ⎥\n",
       "⎣0  0   √3  0⎦"
      ]
     },
     "execution_count": 33,
     "metadata": {},
     "output_type": "execute_result"
    }
   ],
   "source": [
    "represent(ad)"
   ]
  },
  {
   "cell_type": "code",
   "execution_count": 34,
   "id": "3b3e9df1",
   "metadata": {},
   "outputs": [
    {
     "data": {
      "text/latex": [
       "$\\displaystyle \\left[\\begin{matrix}0 & 0 & 0 & 0\\\\0 & 1 & 0 & 0\\\\0 & 0 & 2 & 0\\\\0 & 0 & 0 & 3\\end{matrix}\\right]$"
      ],
      "text/plain": [
       "⎡0  0  0  0⎤\n",
       "⎢          ⎥\n",
       "⎢0  1  0  0⎥\n",
       "⎢          ⎥\n",
       "⎢0  0  2  0⎥\n",
       "⎢          ⎥\n",
       "⎣0  0  0  3⎦"
      ]
     },
     "execution_count": 34,
     "metadata": {},
     "output_type": "execute_result"
    }
   ],
   "source": [
    "represent(N)"
   ]
  },
  {
   "cell_type": "code",
   "execution_count": 35,
   "id": "0ac6dfb3",
   "metadata": {},
   "outputs": [
    {
     "data": {
      "text/latex": [
       "$\\displaystyle \\left[\\begin{matrix}\\frac{\\hbar \\omega}{2} & 0 & 0 & 0\\\\0 & \\frac{3 \\hbar \\omega}{2} & 0 & 0\\\\0 & 0 & \\frac{5 \\hbar \\omega}{2} & 0\\\\0 & 0 & 0 & \\frac{7 \\hbar \\omega}{2}\\end{matrix}\\right]$"
      ],
      "text/plain": [
       "⎡ℏ⋅ω                     ⎤\n",
       "⎢───    0      0      0  ⎥\n",
       "⎢ 2                      ⎥\n",
       "⎢                        ⎥\n",
       "⎢     3⋅ℏ⋅ω              ⎥\n",
       "⎢ 0   ─────    0      0  ⎥\n",
       "⎢       2                ⎥\n",
       "⎢                        ⎥\n",
       "⎢            5⋅ℏ⋅ω       ⎥\n",
       "⎢ 0     0    ─────    0  ⎥\n",
       "⎢              2         ⎥\n",
       "⎢                        ⎥\n",
       "⎢                   7⋅ℏ⋅ω⎥\n",
       "⎢ 0     0      0    ─────⎥\n",
       "⎣                     2  ⎦"
      ]
     },
     "execution_count": 35,
     "metadata": {},
     "output_type": "execute_result"
    }
   ],
   "source": [
    "represent(H)"
   ]
  },
  {
   "cell_type": "code",
   "execution_count": 36,
   "id": "26f977b7",
   "metadata": {},
   "outputs": [
    {
     "data": {
      "image/png": "[encoded data removed]",
      "text/latex": [
       "$\\displaystyle \\frac{5 \\hbar \\omega}{2}$"
      ],
      "text/plain": [
       "5⋅ℏ⋅ω\n",
       "─────\n",
       "  2  "
      ]
     },
     "execution_count": 36,
     "metadata": {},
     "output_type": "execute_result"
    }
   ],
   "source": [
    "qapply(b2*H*k2)"
   ]
  },
  {
   "cell_type": "code",
   "execution_count": 37,
   "id": "ccee3723",
   "metadata": {},
   "outputs": [
    {
     "data": {
      "image/png": "[encoded data removed]",
      "text/latex": [
       "$\\displaystyle \\hbar k \\omega \\delta_{b k} + \\frac{\\hbar \\omega \\delta_{b k}}{2}$"
      ],
      "text/plain": [
       "             ℏ⋅ω⋅δ   \n",
       "                  b,k\n",
       "ℏ⋅k⋅ω⋅δ    + ────────\n",
       "       b,k      2    "
      ]
     },
     "execution_count": 37,
     "metadata": {},
     "output_type": "execute_result"
    }
   ],
   "source": [
    "qapply(b*H*k)"
   ]
  },
  {
   "cell_type": "code",
   "execution_count": null,
   "id": "b3ac2d40",
   "metadata": {},
   "outputs": [],
   "source": []
  }
 ],
 "metadata": {
  "kernelspec": {
   "display_name": "Python 3 (ipykernel)",
   "language": "python",
   "name": "python3"
  },
  "language_info": {
   "codemirror_mode": {
    "name": "ipython",
    "version": 3
   },
   "file_extension": ".py",
   "mimetype": "text/x-python",
   "name": "python",
   "nbconvert_exporter": "python",
   "pygments_lexer": "ipython3",
   "version": "3.9.7"
  }
 },
 "nbformat": 4,
 "nbformat_minor": 5
}
