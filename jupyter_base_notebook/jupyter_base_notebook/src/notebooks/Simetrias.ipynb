{
 "cells": [
  {
   "cell_type": "markdown",
   "id": "ceb21aa9",
   "metadata": {},
   "source": [
    "# Simetrías\n",
    "\n",
    "- Transformaciones en el Lagrangiano que dejan invariantes las ecuaciones de movimiento."
   ]
  },
  {
   "cell_type": "markdown",
   "id": "fc9a24a9",
   "metadata": {},
   "source": [
    "### Partícula libre\n"
   ]
  },
  {
   "cell_type": "code",
   "execution_count": 3,
   "id": "05a97ad3",
   "metadata": {},
   "outputs": [
    {
     "data": {
      "text/markdown": [
       "${}\\text{Attached property Coordinate to~}t.$"
      ]
     },
     "execution_count": 3,
     "metadata": {},
     "output_type": "execute_result"
    },
    {
     "data": {
      "text/markdown": [
       "${}\\text{Attached property Depends to~}x.$"
      ]
     },
     "execution_count": 3,
     "metadata": {},
     "output_type": "execute_result"
    },
    {
     "data": {
      "text/markdown": [
       "${}\\text{Attached property Derivative to~}\\nabla{\\#}.$"
      ]
     },
     "execution_count": 3,
     "metadata": {},
     "output_type": "execute_result"
    }
   ],
   "source": [
    "{t}::Coordinate;\n",
    "x::Depends(t);\n",
    "\\nabla{#}::Derivative;"
   ]
  },
  {
   "cell_type": "code",
   "execution_count": 89,
   "id": "995a5f9e",
   "metadata": {},
   "outputs": [
    {
     "data": {
      "text/markdown": [
       "${}\\nabla_{t}{x} = \\dot{x}$"
      ]
     },
     "execution_count": 89,
     "metadata": {},
     "output_type": "execute_result"
    },
    {
     "data": {
      "text/markdown": [
       "${}\\nabla_{t}{\\dot{x}} = \\dot{\\dot{x}}$"
      ]
     },
     "execution_count": 89,
     "metadata": {},
     "output_type": "execute_result"
    }
   ],
   "source": [
    "dotx::LaTeXForm(\"\\dot{x}\").\n",
    "dotdotx::LaTeXForm(\"\\dot{\\dot{x}}\").\n",
    "dotx:=\\nabla_{t}{x}=dotx;\n",
    "dotdotx:=\\nabla_{t}{dotx}=dotdotx;"
   ]
  },
  {
   "cell_type": "code",
   "execution_count": 15,
   "id": "90a6fd83",
   "metadata": {},
   "outputs": [
    {
     "data": {
      "text/markdown": [
       "${}\\frac{1}{2}m \\left(\\dot{x}\\right)\\,^{2} = L$"
      ]
     },
     "execution_count": 15,
     "metadata": {},
     "output_type": "execute_result"
    }
   ],
   "source": [
    "L::LaTeXForm(\"L\").\n",
    "L:=m/2*({dotx}^{2})=L;"
   ]
  },
  {
   "cell_type": "code",
   "execution_count": 35,
   "id": "6ced86dd",
   "metadata": {},
   "outputs": [
    {
     "data": {
      "text/markdown": [
       "${} \\frac{d}{dt}\\frac{\\partial L}{\\partial \\dot{x}}-\\frac{\\partial L}{\\partial x}=0$"
      ]
     },
     "execution_count": 35,
     "metadata": {},
     "output_type": "execute_result"
    }
   ],
   "source": [
    "EL::LaTeXForm(\" \\frac{d}{dt}\\frac{\\partial L}{\\partial \\dot{x}}-\\frac{\\partial L}{\\partial x}=0\").\n",
    "EL:=EL;\n"
   ]
  },
  {
   "cell_type": "code",
   "execution_count": 58,
   "id": "d73cd069",
   "metadata": {},
   "outputs": [
    {
     "data": {
      "text/markdown": [
       "${} \\frac{d}{dt}\\frac{\\partial L}{\\partial \\dot{x}}=\\frac{d}{dt}(m\\dot{x})$"
      ]
     },
     "execution_count": 58,
     "metadata": {},
     "output_type": "execute_result"
    },
    {
     "data": {
      "text/markdown": [
       "${} \\frac{\\partial L}{\\partial x}=0$"
      ]
     },
     "execution_count": 58,
     "metadata": {},
     "output_type": "execute_result"
    }
   ],
   "source": [
    "EL1::LaTeXForm(\" \\frac{d}{dt}\\frac{\\partial L}{\\partial \\dot{x}}=\\frac{d}{dt}(m\\dot{x})\").\n",
    "EL2::LaTeXForm(\" \\frac{\\partial L}{\\partial x}=0\").\n",
    "\n",
    "EL1;\n",
    "EL2;"
   ]
  },
  {
   "cell_type": "markdown",
   "id": "6f623511",
   "metadata": {},
   "source": [
    "#### Transformamos x, mediante una traslación."
   ]
  },
  {
   "cell_type": "code",
   "execution_count": 36,
   "id": "a83bb479",
   "metadata": {},
   "outputs": [
    {
     "data": {
      "text/markdown": [
       "${}x_p=x+a$"
      ]
     },
     "execution_count": 36,
     "metadata": {},
     "output_type": "execute_result"
    }
   ],
   "source": [
    "y::LaTeXForm(\"x_p=x+a\").\n",
    "x_p:=y;"
   ]
  },
  {
   "cell_type": "code",
   "execution_count": 65,
   "id": "6f907ba9",
   "metadata": {},
   "outputs": [
    {
     "data": {
      "text/markdown": [
       "${}\\nabla_{t}{x_p=x+a} = \\dot{x}$"
      ]
     },
     "execution_count": 65,
     "metadata": {},
     "output_type": "execute_result"
    },
    {
     "data": {
      "text/markdown": [
       "${}\\frac{1}{2}m \\left(\\dot{x}\\right)\\,^{2} = L$"
      ]
     },
     "execution_count": 65,
     "metadata": {},
     "output_type": "execute_result"
    }
   ],
   "source": [
    "doty::LaTeXForm(\"\\dot{x}\").\n",
    "doty:=\\nabla_{t}{ y }=doty;\n",
    "L::LaTeXForm(\"L\").\n",
    "L:=m/2*({doty}^{2})=L;"
   ]
  },
  {
   "cell_type": "markdown",
   "id": "60f55869",
   "metadata": {},
   "source": [
    "## Conclusiones:\n",
    "\n",
    "- Para partícula libre, la transformación Traslación no afecta la de derivada de la coordenada, es decir se ve igual.\n",
    "- Tampoco afecta el Lagrangiano, se igual con x, y con y=x+a.\n",
    "- Tampoco cambia las ecuaciones de movimiento.\n",
    "\n",
    "### Tarea:\n",
    "- [ ] Transformar t'=t-tau, y averiguar como cambia la velocidad, el Lagrangiano, y las ecuaciones de movimiento."
   ]
  },
  {
   "cell_type": "markdown",
   "id": "de15f0fb",
   "metadata": {},
   "source": [
    "## Oscilador armónico."
   ]
  },
  {
   "cell_type": "code",
   "execution_count": 75,
   "id": "9534c3c9",
   "metadata": {},
   "outputs": [
    {
     "data": {
      "text/markdown": [
       "${}\\text{Attached property Coordinate to~}t.$"
      ]
     },
     "execution_count": 75,
     "metadata": {},
     "output_type": "execute_result"
    },
    {
     "data": {
      "text/markdown": [
       "${}\\text{Attached property Depends to~}x.$"
      ]
     },
     "execution_count": 75,
     "metadata": {},
     "output_type": "execute_result"
    },
    {
     "data": {
      "text/markdown": [
       "${}\\text{Attached property Depends to~}x_p=x+a.$"
      ]
     },
     "execution_count": 75,
     "metadata": {},
     "output_type": "execute_result"
    },
    {
     "data": {
      "text/markdown": [
       "${}\\text{Attached property Derivative to~}\\nabla{\\#}.$"
      ]
     },
     "execution_count": 75,
     "metadata": {},
     "output_type": "execute_result"
    },
    {
     "data": {
      "text/markdown": [
       "${}\\nabla_{t}{x} = \\dot{x}$"
      ]
     },
     "execution_count": 75,
     "metadata": {},
     "output_type": "execute_result"
    },
    {
     "data": {
      "text/markdown": [
       "${}\\frac{1}{2}m \\left(\\dot{x}\\right)\\,^{2} - \\frac{1}{2}k \\left(x\\right)\\,^{2} = L$"
      ]
     },
     "execution_count": 75,
     "metadata": {},
     "output_type": "execute_result"
    }
   ],
   "source": [
    "{t}::Coordinate;\n",
    "x::Depends(t);\n",
    "\\nabla{#}::Derivative;\n",
    "\n",
    "dotx::LaTeXForm(\"\\dot{x}\").\n",
    "dotx:=\\nabla_{t}{x}=dotx;\n",
    "\n",
    "L::LaTeXForm(\"L\").\n",
    "L:=m/2*({dotx}^{2})-k/2*(x)^2=L;"
   ]
  },
  {
   "cell_type": "markdown",
   "id": "87b1da75",
   "metadata": {},
   "source": [
    "#### Transformamos x, mediante una traslación: x=x+a."
   ]
  },
  {
   "cell_type": "code",
   "execution_count": 77,
   "id": "45a529ff",
   "metadata": {},
   "outputs": [
    {
     "data": {
      "text/markdown": [
       "${}x_p=x+a$"
      ]
     },
     "execution_count": 77,
     "metadata": {},
     "output_type": "execute_result"
    },
    {
     "data": {
      "text/markdown": [
       "${}\\text{Attached property Depends to~}x_p=x+a.$"
      ]
     },
     "execution_count": 77,
     "metadata": {},
     "output_type": "execute_result"
    }
   ],
   "source": [
    "y::LaTeXForm(\"x_p=x+a\").\n",
    "x_p:=y;\n",
    "\n",
    "y::Depends(t);\n"
   ]
  },
  {
   "cell_type": "code",
   "execution_count": 78,
   "id": "b8b93df3",
   "metadata": {},
   "outputs": [
    {
     "data": {
      "text/markdown": [
       "${}\\nabla_{t}{x_p=x+a} = \\dot{x}$"
      ]
     },
     "execution_count": 78,
     "metadata": {},
     "output_type": "execute_result"
    },
    {
     "data": {
      "text/markdown": [
       "${}\\frac{1}{2}m \\left(\\dot{x}\\right)\\,^{2} - \\frac{1}{2}k \\left(x_p=x+a\\right)\\,^{2} = L$"
      ]
     },
     "execution_count": 78,
     "metadata": {},
     "output_type": "execute_result"
    }
   ],
   "source": [
    "doty::LaTeXForm(\"\\dot{x}\").\n",
    "doty:=\\nabla_{t}{ y }=doty;\n",
    "L::LaTeXForm(\"L\").\n",
    "L:=m/2*({doty}^{2})-k/2*(y)^2=L;"
   ]
  },
  {
   "cell_type": "code",
   "execution_count": 85,
   "id": "0bc957be",
   "metadata": {},
   "outputs": [
    {
     "data": {
      "text/markdown": [
       "${}m \\nabla_{t}{\\dot{x}}$"
      ]
     },
     "execution_count": 85,
     "metadata": {},
     "output_type": "execute_result"
    },
    {
     "data": {
      "text/markdown": [
       "${} \\frac{\\partial L}{\\partial y}=k*y$"
      ]
     },
     "execution_count": 85,
     "metadata": {},
     "output_type": "execute_result"
    }
   ],
   "source": [
    "EL1::LaTeXForm(\" \\frac{d}{dt}\\frac{\\partial L}{\\partial \\dot{y}}=\\frac{d}{dt}(m\\dot{y})\").\n",
    "EL2::LaTeXForm(\" \\frac{\\partial L}{\\partial y}=k*y\").\n",
    "EL1:=m*\\nabla_{t}{doty};\n",
    "EL2;"
   ]
  },
  {
   "cell_type": "code",
   "execution_count": 92,
   "id": "56c63ff1",
   "metadata": {},
   "outputs": [
    {
     "data": {
      "text/markdown": [
       "${}m*\\dot{\\dot{x}}-k(x+a)=0$"
      ]
     },
     "execution_count": 92,
     "metadata": {},
     "output_type": "execute_result"
    }
   ],
   "source": [
    "NEM::LaTeXForm(\"m*\\dot{\\dot{x}}-k(x+a)=0\").\n",
    "\n",
    "NEM:=NEM;"
   ]
  },
  {
   "cell_type": "markdown",
   "id": "6dec1360",
   "metadata": {},
   "source": [
    "#### Conclusiones\n",
    "\n",
    "- Las traslaciones no son simetrías del oscilador armónico.\n",
    "\n",
    "- ¿Las traslaciones temporales son simetrías del oscilador armónico?."
   ]
  },
  {
   "cell_type": "markdown",
   "id": "275f5c65",
   "metadata": {},
   "source": [
    "### ¿Qué pasa con la transformación y=-x?"
   ]
  },
  {
   "cell_type": "code",
   "execution_count": 94,
   "id": "ba2cf062",
   "metadata": {},
   "outputs": [
    {
     "data": {
      "text/markdown": [
       "${}x_p=-x$"
      ]
     },
     "execution_count": 94,
     "metadata": {},
     "output_type": "execute_result"
    },
    {
     "data": {
      "text/markdown": [
       "${}\\text{Attached property Depends to~}x_p=-x.$"
      ]
     },
     "execution_count": 94,
     "metadata": {},
     "output_type": "execute_result"
    }
   ],
   "source": [
    "y::LaTeXForm(\"x_p=-x\").\n",
    "x_p:=y;\n",
    "\n",
    "y::Depends(t);\n"
   ]
  },
  {
   "cell_type": "code",
   "execution_count": 95,
   "id": "c9c0e797",
   "metadata": {},
   "outputs": [
    {
     "data": {
      "text/markdown": [
       "${}\\nabla_{t}{x_p=-x} = \\dot{x}$"
      ]
     },
     "execution_count": 95,
     "metadata": {},
     "output_type": "execute_result"
    },
    {
     "data": {
      "text/markdown": [
       "${}\\frac{1}{2}m \\left(\\dot{x}\\right)\\,^{2} - \\frac{1}{2}k \\left(x_p=-x\\right)\\,^{2} = L$"
      ]
     },
     "execution_count": 95,
     "metadata": {},
     "output_type": "execute_result"
    }
   ],
   "source": [
    "doty::LaTeXForm(\"\\dot{x}\").\n",
    "doty:=\\nabla_{t}{ y }=doty;\n",
    "L::LaTeXForm(\"L\").\n",
    "L:=m/2*({doty}^{2})-k/2*(y)^2=L;"
   ]
  },
  {
   "cell_type": "code",
   "execution_count": 96,
   "id": "26cbfeca",
   "metadata": {},
   "outputs": [
    {
     "data": {
      "text/markdown": [
       "${}m \\nabla_{t}{\\dot{x}}$"
      ]
     },
     "execution_count": 96,
     "metadata": {},
     "output_type": "execute_result"
    },
    {
     "data": {
      "text/markdown": [
       "${} \\frac{\\partial L}{\\partial y}=k*y$"
      ]
     },
     "execution_count": 96,
     "metadata": {},
     "output_type": "execute_result"
    }
   ],
   "source": [
    "EL1::LaTeXForm(\" \\frac{d}{dt}\\frac{\\partial L}{\\partial \\dot{y}}=\\frac{d}{dt}(m\\dot{y})\").\n",
    "EL2::LaTeXForm(\" \\frac{\\partial L}{\\partial y}=k*y\").\n",
    "EL1:=m*\\nabla_{t}{doty};\n",
    "EL2;"
   ]
  },
  {
   "cell_type": "code",
   "execution_count": 99,
   "id": "c4366030",
   "metadata": {},
   "outputs": [
    {
     "data": {
      "text/markdown": [
       "${}m*\\dot{\\dot{x}}-k(y)=0$"
      ]
     },
     "execution_count": 99,
     "metadata": {},
     "output_type": "execute_result"
    }
   ],
   "source": [
    "NEM::LaTeXForm(\"m*\\dot{\\dot{x}}-k(y)=0\").\n",
    "NEM:=NEM;"
   ]
  },
  {
   "cell_type": "markdown",
   "id": "5a7e209d",
   "metadata": {},
   "source": [
    "\n",
    "### Tarea:\n",
    "- [ ] Verificar que la ec. de movimiento tiene los signos correctos bajo la inversión del eje x.\n",
    "- [ ] Transformar t'=t-tau, y averiguar como cambia la velocidad, el Lagrangiano, y las ecuaciones de movimiento."
   ]
  },
  {
   "cell_type": "markdown",
   "id": "319a2e34",
   "metadata": {},
   "source": [
    "## Oscilador armónico 3D.\n",
    "\n",
    "- [ ] Escribir el Lagrangiano del Oscilador armónico 3D.\n",
    "- [ ] Re-escribir el Lagrangiano del Oscilador armónico 3D en variables angulares (polar(theta) y azimutal(phi)).\n",
    "- [ ] ¿Se conserva el lagrangiano ante transformaciones de rotación?"
   ]
  },
  {
   "cell_type": "code",
   "execution_count": null,
   "id": "bea5fe08",
   "metadata": {},
   "outputs": [],
   "source": []
  }
 ],
 "metadata": {
  "kernelspec": {
   "display_name": "Cadabra",
   "language": "python",
   "name": "cadabra"
  },
  "language_info": {
   "file_extension": ".cdb",
   "mimetype": "text/cadabra",
   "name": "cadabra",
   "version": "2.0.0"
  }
 },
 "nbformat": 4,
 "nbformat_minor": 5
}
