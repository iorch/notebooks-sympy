{
 "cells": [
  {
   "cell_type": "markdown",
   "id": "ceb21aa9",
   "metadata": {},
   "source": [
    "# Simetrías de la acción\n",
    "\n",
    "\n",
    "### Teorema de Noether:\n",
    "Dada la integral acción de un sistema dinámio con coordenadas generalizadas $q$"
   ]
  },
  {
   "cell_type": "code",
   "execution_count": 115,
   "id": "f9061528",
   "metadata": {},
   "outputs": [
    {
     "data": {
      "text/markdown": [
       "${}\\mathcal{S} = \\int_{t_0}^{t_1}\\mathcal{L}(q^j,\\dot{q}^j,t)dt$"
      ]
     },
     "execution_count": 115,
     "metadata": {},
     "output_type": "execute_result"
    }
   ],
   "source": [
    "acc::LaTeXForm(\"\\mathcal{S}\").\n",
    "intacc::LaTeXForm(\"\\int_{t_0}^{t_1}\\mathcal{L}(q^j,\\dot{q}^j,t)dt\").\n",
    "Eqacc:=acc=intacc;\n"
   ]
  },
  {
   "cell_type": "markdown",
   "id": "b88c83d2",
   "metadata": {},
   "source": [
    "Se dice que la integral de ación tiene simetría bajo la transformación infinitesimal:"
   ]
  },
  {
   "cell_type": "code",
   "execution_count": 123,
   "id": "23f5e4f7",
   "metadata": {},
   "outputs": [
    {
     "data": {
      "text/markdown": [
       "${}t' = t+\\delta t$"
      ]
     },
     "execution_count": 123,
     "metadata": {},
     "output_type": "execute_result"
    },
    {
     "data": {
      "text/markdown": [
       "${}q'^{j} = q^{j}+\\delta q^{j}$"
      ]
     },
     "execution_count": 123,
     "metadata": {},
     "output_type": "execute_result"
    }
   ],
   "source": [
    "EqqTt:=t'=t+\\delta t;\n",
    "EqqTq:=q'^j=q^j+\\delta q^j;"
   ]
  },
  {
   "cell_type": "markdown",
   "id": "622f765b",
   "metadata": {},
   "source": [
    "Si la variación de la integral de acción se anula:"
   ]
  },
  {
   "cell_type": "code",
   "execution_count": 134,
   "id": "f4db2b1c",
   "metadata": {},
   "outputs": [
    {
     "data": {
      "text/markdown": [
       "${}\\delta\\mathcal{S} = \\delta\\int_{t_0}^{t_1}\\mathcal{L}(q^j,\\dot{q}^j,t)dt$"
      ]
     },
     "execution_count": 134,
     "metadata": {},
     "output_type": "execute_result"
    },
    {
     "data": {
      "text/markdown": [
       "${}\\delta\\mathcal{S} = 0$"
      ]
     },
     "execution_count": 134,
     "metadata": {},
     "output_type": "execute_result"
    }
   ],
   "source": [
    "varacc::LaTeXForm(\"\\delta\\mathcal{S}\").\n",
    "varintacc::LaTeXForm(\"\\delta\\int_{t_0}^{t_1}\\mathcal{L}(q^j,\\dot{q}^j,t)dt\").\n",
    "Eqvaracc:=varacc=varintacc;\n",
    "Eqvaracc:=varacc=0;"
   ]
  },
  {
   "cell_type": "markdown",
   "id": "3d2c8067",
   "metadata": {},
   "source": [
    "donde:"
   ]
  },
  {
   "cell_type": "code",
   "execution_count": 149,
   "id": "c9c88c75",
   "metadata": {},
   "outputs": [
    {
     "data": {
      "text/markdown": [
       "${}O = \\frac{\\partial \\mathcal{L}}{\\partial\\dot{q}^j}\\delta q^j + \\left(\\mathcal{L}-\\frac{\\partial \\mathcal{L}}{\\partial q^j}\\delta\\dot{q}^j\\right)\\delta t$"
      ]
     },
     "execution_count": 149,
     "metadata": {},
     "output_type": "execute_result"
    }
   ],
   "source": [
    "EqqO::LaTeXForm(\"\\frac{\\partial \\mathcal{L}}{\\partial\\dot{q}^j}\\delta q^j + \\left(\\mathcal{L}-\\frac{\\partial \\mathcal{L}}{\\partial q^j}\\delta\\dot{q}^j\\right)\\delta t\").\n",
    "O:=O=EqqO;"
   ]
  },
  {
   "cell_type": "markdown",
   "id": "a7557bec",
   "metadata": {},
   "source": [
    "es una constante de movimiento."
   ]
  },
  {
   "cell_type": "markdown",
   "id": "fc9a24a9",
   "metadata": {},
   "source": [
    "### Partícula libre\n"
   ]
  },
  {
   "cell_type": "code",
   "execution_count": 150,
   "id": "05a97ad3",
   "metadata": {},
   "outputs": [
    {
     "data": {
      "text/markdown": [
       "${}\\text{Attached property Coordinate to~}t.$"
      ]
     },
     "execution_count": 150,
     "metadata": {},
     "output_type": "execute_result"
    },
    {
     "data": {
      "text/markdown": [
       "${}\\text{Attached property Depends to~}x.$"
      ]
     },
     "execution_count": 150,
     "metadata": {},
     "output_type": "execute_result"
    },
    {
     "data": {
      "text/markdown": [
       "${}\\text{Attached property Derivative to~}\\nabla{\\#}.$"
      ]
     },
     "execution_count": 150,
     "metadata": {},
     "output_type": "execute_result"
    }
   ],
   "source": [
    "{t}::Coordinate;\n",
    "x::Depends(t);\n",
    "\\nabla{#}::Derivative;"
   ]
  },
  {
   "cell_type": "code",
   "execution_count": 151,
   "id": "995a5f9e",
   "metadata": {},
   "outputs": [
    {
     "data": {
      "text/markdown": [
       "${}\\nabla_{t}{x} = \\dot{x}$"
      ]
     },
     "execution_count": 151,
     "metadata": {},
     "output_type": "execute_result"
    },
    {
     "data": {
      "text/markdown": [
       "${}\\nabla_{t}{\\dot{x}} = \\dot{\\dot{x}}$"
      ]
     },
     "execution_count": 151,
     "metadata": {},
     "output_type": "execute_result"
    }
   ],
   "source": [
    "dotx::LaTeXForm(\"\\dot{x}\").\n",
    "dotdotx::LaTeXForm(\"\\dot{\\dot{x}}\").\n",
    "dotx:=\\nabla_{t}{x}=dotx;\n",
    "dotdotx:=\\nabla_{t}{dotx}=dotdotx;"
   ]
  },
  {
   "cell_type": "code",
   "execution_count": 152,
   "id": "90a6fd83",
   "metadata": {},
   "outputs": [
    {
     "data": {
      "text/markdown": [
       "${}\\frac{1}{2}m \\left(\\dot{x}\\right)\\,^{2} = L$"
      ]
     },
     "execution_count": 152,
     "metadata": {},
     "output_type": "execute_result"
    }
   ],
   "source": [
    "L::LaTeXForm(\"L\").\n",
    "L:=m/2*({dotx}^{2})=L;"
   ]
  },
  {
   "cell_type": "code",
   "execution_count": 153,
   "id": "6ced86dd",
   "metadata": {},
   "outputs": [
    {
     "data": {
      "text/markdown": [
       "${} \\frac{d}{dt}\\frac{\\partial L}{\\partial \\dot{x}}-\\frac{\\partial L}{\\partial x}=0$"
      ]
     },
     "execution_count": 153,
     "metadata": {},
     "output_type": "execute_result"
    }
   ],
   "source": [
    "EL::LaTeXForm(\" \\frac{d}{dt}\\frac{\\partial L}{\\partial \\dot{x}}-\\frac{\\partial L}{\\partial x}=0\").\n",
    "EL:=EL;\n"
   ]
  },
  {
   "cell_type": "code",
   "execution_count": 154,
   "id": "d73cd069",
   "metadata": {},
   "outputs": [
    {
     "data": {
      "text/markdown": [
       "${}m \\nabla_{t}{\\dot{x}}$"
      ]
     },
     "execution_count": 154,
     "metadata": {},
     "output_type": "execute_result"
    },
    {
     "data": {
      "text/markdown": [
       "${} \\frac{\\partial L}{\\partial x}=0$"
      ]
     },
     "execution_count": 154,
     "metadata": {},
     "output_type": "execute_result"
    }
   ],
   "source": [
    "EL1::LaTeXForm(\" \\frac{d}{dt}\\frac{\\partial L}{\\partial \\dot{x}}=\\frac{d}{dt}(m\\dot{x})\").\n",
    "EL2::LaTeXForm(\" \\frac{\\partial L}{\\partial x}=0\").\n",
    "\n",
    "EL1;\n",
    "EL2;"
   ]
  },
  {
   "cell_type": "markdown",
   "id": "6f623511",
   "metadata": {},
   "source": [
    "#### Transformamos x, mediante una traslación."
   ]
  },
  {
   "cell_type": "code",
   "execution_count": 155,
   "id": "a83bb479",
   "metadata": {},
   "outputs": [
    {
     "data": {
      "text/markdown": [
       "${}x_p=x+a$"
      ]
     },
     "execution_count": 155,
     "metadata": {},
     "output_type": "execute_result"
    }
   ],
   "source": [
    "y::LaTeXForm(\"x_p=x+a\").\n",
    "x_p:=y;"
   ]
  },
  {
   "cell_type": "code",
   "execution_count": 156,
   "id": "6f907ba9",
   "metadata": {},
   "outputs": [
    {
     "data": {
      "text/markdown": [
       "${}\\nabla_{t}{x_p=x+a} = \\dot{x}$"
      ]
     },
     "execution_count": 156,
     "metadata": {},
     "output_type": "execute_result"
    },
    {
     "data": {
      "text/markdown": [
       "${}\\frac{1}{2}m \\left(\\dot{x}\\right)\\,^{2} = L$"
      ]
     },
     "execution_count": 156,
     "metadata": {},
     "output_type": "execute_result"
    }
   ],
   "source": [
    "doty::LaTeXForm(\"\\dot{x}\").\n",
    "doty:=\\nabla_{t}{ y }=doty;\n",
    "L::LaTeXForm(\"L\").\n",
    "L:=m/2*({doty}^{2})=L;"
   ]
  },
  {
   "cell_type": "markdown",
   "id": "60f55869",
   "metadata": {},
   "source": [
    "## Conclusiones:\n",
    "\n",
    "- Para partícula libre, la transformación Traslación no afecta la de derivada de la coordenada, es decir se ve igual.\n",
    "- Tampoco afecta el Lagrangiano, se igual con x, y con y=x+a.\n",
    "- Tampoco cambia las ecuaciones de movimiento.\n",
    "\n",
    "### Tarea:\n",
    "- [ ] Transformar t'=t-tau, y averiguar como cambia la velocidad, el Lagrangiano, y las ecuaciones de movimiento."
   ]
  },
  {
   "cell_type": "markdown",
   "id": "de15f0fb",
   "metadata": {},
   "source": [
    "## Oscilador armónico."
   ]
  },
  {
   "cell_type": "code",
   "execution_count": 157,
   "id": "9534c3c9",
   "metadata": {},
   "outputs": [
    {
     "data": {
      "text/markdown": [
       "${}\\text{Attached property Coordinate to~}t.$"
      ]
     },
     "execution_count": 157,
     "metadata": {},
     "output_type": "execute_result"
    },
    {
     "data": {
      "text/markdown": [
       "${}\\text{Attached property Depends to~}x.$"
      ]
     },
     "execution_count": 157,
     "metadata": {},
     "output_type": "execute_result"
    },
    {
     "data": {
      "text/markdown": [
       "${}\\text{Attached property Derivative to~}\\nabla{\\#}.$"
      ]
     },
     "execution_count": 157,
     "metadata": {},
     "output_type": "execute_result"
    },
    {
     "data": {
      "text/markdown": [
       "${}\\nabla_{t}{x} = \\dot{x}$"
      ]
     },
     "execution_count": 157,
     "metadata": {},
     "output_type": "execute_result"
    },
    {
     "data": {
      "text/markdown": [
       "${}\\frac{1}{2}m \\left(\\dot{x}\\right)\\,^{2} - \\frac{1}{2}k \\left(x\\right)\\,^{2} = L$"
      ]
     },
     "execution_count": 157,
     "metadata": {},
     "output_type": "execute_result"
    }
   ],
   "source": [
    "{t}::Coordinate;\n",
    "x::Depends(t);\n",
    "\\nabla{#}::Derivative;\n",
    "\n",
    "dotx::LaTeXForm(\"\\dot{x}\").\n",
    "dotx:=\\nabla_{t}{x}=dotx;\n",
    "\n",
    "L::LaTeXForm(\"L\").\n",
    "L:=m/2*({dotx}^{2})-k/2*(x)^2=L;"
   ]
  },
  {
   "cell_type": "markdown",
   "id": "87b1da75",
   "metadata": {},
   "source": [
    "#### Transformamos x, mediante una traslación: x=x+a."
   ]
  },
  {
   "cell_type": "code",
   "execution_count": 158,
   "id": "45a529ff",
   "metadata": {},
   "outputs": [
    {
     "data": {
      "text/markdown": [
       "${}x_p=x+a$"
      ]
     },
     "execution_count": 158,
     "metadata": {},
     "output_type": "execute_result"
    },
    {
     "data": {
      "text/markdown": [
       "${}\\text{Attached property Depends to~}x_p=x+a.$"
      ]
     },
     "execution_count": 158,
     "metadata": {},
     "output_type": "execute_result"
    }
   ],
   "source": [
    "y::LaTeXForm(\"x_p=x+a\").\n",
    "x_p:=y;\n",
    "\n",
    "y::Depends(t);\n"
   ]
  },
  {
   "cell_type": "code",
   "execution_count": 159,
   "id": "b8b93df3",
   "metadata": {},
   "outputs": [
    {
     "data": {
      "text/markdown": [
       "${}\\nabla_{t}{x_p=x+a} = \\dot{x}$"
      ]
     },
     "execution_count": 159,
     "metadata": {},
     "output_type": "execute_result"
    },
    {
     "data": {
      "text/markdown": [
       "${}\\frac{1}{2}m \\left(\\dot{x}\\right)\\,^{2} - \\frac{1}{2}k \\left(x_p=x+a\\right)\\,^{2} = L$"
      ]
     },
     "execution_count": 159,
     "metadata": {},
     "output_type": "execute_result"
    }
   ],
   "source": [
    "doty::LaTeXForm(\"\\dot{x}\").\n",
    "doty:=\\nabla_{t}{ y }=doty;\n",
    "L::LaTeXForm(\"L\").\n",
    "L:=m/2*({doty}^{2})-k/2*(y)^2=L;"
   ]
  },
  {
   "cell_type": "code",
   "execution_count": 160,
   "id": "0bc957be",
   "metadata": {},
   "outputs": [
    {
     "data": {
      "text/markdown": [
       "${}m \\nabla_{t}{\\dot{x}}$"
      ]
     },
     "execution_count": 160,
     "metadata": {},
     "output_type": "execute_result"
    },
    {
     "data": {
      "text/markdown": [
       "${} \\frac{\\partial L}{\\partial y}=k*y$"
      ]
     },
     "execution_count": 160,
     "metadata": {},
     "output_type": "execute_result"
    }
   ],
   "source": [
    "EL1::LaTeXForm(\" \\frac{d}{dt}\\frac{\\partial L}{\\partial \\dot{y}}=\\frac{d}{dt}(m\\dot{y})\").\n",
    "EL2::LaTeXForm(\" \\frac{\\partial L}{\\partial y}=k*y\").\n",
    "EL1:=m*\\nabla_{t}{doty};\n",
    "EL2;"
   ]
  },
  {
   "cell_type": "code",
   "execution_count": 161,
   "id": "56c63ff1",
   "metadata": {},
   "outputs": [
    {
     "data": {
      "text/markdown": [
       "${}m*\\dot{\\dot{x}}-k(x+a)=0$"
      ]
     },
     "execution_count": 161,
     "metadata": {},
     "output_type": "execute_result"
    }
   ],
   "source": [
    "NEM::LaTeXForm(\"m*\\dot{\\dot{x}}-k(x+a)=0\").\n",
    "\n",
    "NEM:=NEM;"
   ]
  },
  {
   "cell_type": "markdown",
   "id": "6dec1360",
   "metadata": {},
   "source": [
    "#### Conclusiones\n",
    "\n",
    "- Las traslaciones no son simetrías del oscilador armónico.\n",
    "\n",
    "- ¿Las traslaciones temporales son simetrías del oscilador armónico?."
   ]
  },
  {
   "cell_type": "markdown",
   "id": "275f5c65",
   "metadata": {},
   "source": [
    "### ¿Qué pasa con la transformación y=-x?"
   ]
  },
  {
   "cell_type": "code",
   "execution_count": 162,
   "id": "ba2cf062",
   "metadata": {},
   "outputs": [
    {
     "data": {
      "text/markdown": [
       "${}x_p=-x$"
      ]
     },
     "execution_count": 162,
     "metadata": {},
     "output_type": "execute_result"
    },
    {
     "data": {
      "text/markdown": [
       "${}\\text{Attached property Depends to~}x_p=-x.$"
      ]
     },
     "execution_count": 162,
     "metadata": {},
     "output_type": "execute_result"
    }
   ],
   "source": [
    "y::LaTeXForm(\"x_p=-x\").\n",
    "x_p:=y;\n",
    "\n",
    "y::Depends(t);\n"
   ]
  },
  {
   "cell_type": "code",
   "execution_count": 163,
   "id": "c9c0e797",
   "metadata": {},
   "outputs": [
    {
     "data": {
      "text/markdown": [
       "${}\\nabla_{t}{x_p=-x} = \\dot{x}$"
      ]
     },
     "execution_count": 163,
     "metadata": {},
     "output_type": "execute_result"
    },
    {
     "data": {
      "text/markdown": [
       "${}\\frac{1}{2}m \\left(\\dot{x}\\right)\\,^{2} - \\frac{1}{2}k \\left(x_p=-x\\right)\\,^{2} = L$"
      ]
     },
     "execution_count": 163,
     "metadata": {},
     "output_type": "execute_result"
    }
   ],
   "source": [
    "doty::LaTeXForm(\"\\dot{x}\").\n",
    "doty:=\\nabla_{t}{ y }=doty;\n",
    "L::LaTeXForm(\"L\").\n",
    "L:=m/2*({doty}^{2})-k/2*(y)^2=L;"
   ]
  },
  {
   "cell_type": "code",
   "execution_count": 164,
   "id": "26cbfeca",
   "metadata": {},
   "outputs": [
    {
     "data": {
      "text/markdown": [
       "${}m \\nabla_{t}{\\dot{x}}$"
      ]
     },
     "execution_count": 164,
     "metadata": {},
     "output_type": "execute_result"
    },
    {
     "data": {
      "text/markdown": [
       "${} \\frac{\\partial L}{\\partial y}=k*y$"
      ]
     },
     "execution_count": 164,
     "metadata": {},
     "output_type": "execute_result"
    }
   ],
   "source": [
    "EL1::LaTeXForm(\" \\frac{d}{dt}\\frac{\\partial L}{\\partial \\dot{y}}=\\frac{d}{dt}(m\\dot{y})\").\n",
    "EL2::LaTeXForm(\" \\frac{\\partial L}{\\partial y}=k*y\").\n",
    "EL1:=m*\\nabla_{t}{doty};\n",
    "EL2;"
   ]
  },
  {
   "cell_type": "code",
   "execution_count": 165,
   "id": "c4366030",
   "metadata": {},
   "outputs": [
    {
     "data": {
      "text/markdown": [
       "${}m*\\dot{\\dot{x}}-k(y)=0$"
      ]
     },
     "execution_count": 165,
     "metadata": {},
     "output_type": "execute_result"
    }
   ],
   "source": [
    "NEM::LaTeXForm(\"m*\\dot{\\dot{x}}-k(y)=0\").\n",
    "NEM:=NEM;"
   ]
  },
  {
   "cell_type": "markdown",
   "id": "5a7e209d",
   "metadata": {},
   "source": [
    "\n",
    "### Tarea:\n",
    "- [ ] Verificar que la ec. de movimiento tiene los signos correctos bajo la inversión del eje x.\n",
    "- [ ] Transformar t'=t-tau, y averiguar como cambia la velocidad, el Lagrangiano, y las ecuaciones de movimiento."
   ]
  },
  {
   "cell_type": "markdown",
   "id": "79548341",
   "metadata": {},
   "source": [
    "## Oscilador armónico 3D.\n",
    "\n",
    "- [ ] Escribir el Lagrangiano del Oscilador armónico 3D.\n",
    "- [ ] Re-escribir el Lagrangiano del Oscilador armónico 3D en variables angulares (polar(theta) y azimutal(phi)).\n",
    "- [ ] ¿Se conserva el lagrangiano ante transformaciones de rotación?"
   ]
  },
  {
   "cell_type": "code",
   "execution_count": 180,
   "id": "9aab234e",
   "metadata": {},
   "outputs": [
    {
     "data": {
      "text/markdown": [
       "${}\\mathcal{L}(x^j,\\dot{x}^j,t) = \\frac{m}{2}(\\dot{x}^1\\dot{x}^1+\\dot{x}^2\\dot{x}^2+\\dot{x}^3\\dot{x}^3) -k(x^1x^1+x^2x^2+x^3x^3)$"
      ]
     },
     "execution_count": 180,
     "metadata": {},
     "output_type": "execute_result"
    }
   ],
   "source": [
    "intaccCC::LaTeXForm(\"\\int_{t_0}^{t_1}\\mathcal{L}(x^j,\\dot{x}^j,t)dt\").\n",
    "LagHO3D::LaTeXForm(\"\\mathcal{L}(x^j,\\dot{x}^j,t)\").\n",
    "coordsPotHO3D::LaTeXForm(\"-k(x^1x^1+x^2x^2+x^3x^3)\").\n",
    "coordsKEHO3D::LaTeXForm(\"\\frac{m}{2}(\\dot{x}^1\\dot{x}^1+\\dot{x}^2\\dot{x}^2+\\dot{x}^3\\dot{x}^3)\").\n",
    "eccLagHO3D:=LagHO3D=coordsKEHO3D coordsPotHO3D;"
   ]
  },
  {
   "cell_type": "code",
   "execution_count": 185,
   "id": "ff2a669e",
   "metadata": {},
   "outputs": [
    {
     "data": {
      "text/markdown": [
       "${}x_p=-x$"
      ]
     },
     "execution_count": 185,
     "metadata": {},
     "output_type": "execute_result"
    },
    {
     "data": {
      "text/markdown": [
       "${}x = r \\cos{\\phi} \\sin{\\theta}$"
      ]
     },
     "execution_count": 185,
     "metadata": {},
     "output_type": "execute_result"
    },
    {
     "data": {
      "text/markdown": [
       "${}x_p=-x = r \\sin{\\phi} \\sin{\\theta}$"
      ]
     },
     "execution_count": 185,
     "metadata": {},
     "output_type": "execute_result"
    },
    {
     "data": {
      "text/markdown": [
       "${}z = r \\cos{\\theta}$"
      ]
     },
     "execution_count": 185,
     "metadata": {},
     "output_type": "execute_result"
    }
   ],
   "source": [
    "y:=y;\n",
    "Eqqx_sphr:=x=r\\cos{\\phi}\\sin{\\theta};\n",
    "Eqqy_sphr:=y=r\\sin{\\phi}\\sin{\\theta};\n",
    "Eqqx_sphr:=z=r\\cos{\\theta};"
   ]
  },
  {
   "cell_type": "code",
   "execution_count": 192,
   "id": "df97b62f",
   "metadata": {},
   "outputs": [
    {
     "data": {
      "text/markdown": [
       "${}\\dot{x} = \\dot{r} \\cos{\\phi} \\sin{\\theta}+r\\left(-\\dot{\\phi} \\sin{\\phi} \\sin{\\theta}+\\dot{\\theta} \\cos{\\phi} \\cos{\\theta}\\right)$"
      ]
     },
     "execution_count": 192,
     "metadata": {},
     "output_type": "execute_result"
    },
    {
     "data": {
      "text/markdown": [
       "${}\\dot{x_p=-x} = \\dot{r} \\sin{\\phi} \\sin{\\theta}+r$"
      ]
     },
     "execution_count": 192,
     "metadata": {},
     "output_type": "execute_result"
    }
   ],
   "source": [
    "Eqqdotx_sphr:=\\dot{x}=\\dot{r}\\cos{\\phi}\\sin{\\theta}+r(-\\dot{\\phi}\\sin{\\phi}\\sin{\\theta}+\\dot{\\theta}\\cos{\\phi}\\cos{\\theta});\n",
    "Eqqdoty_sphr:=\\dot{y}=\\dot{r}\\sin{\\phi}\\sin{\\theta}+r(\\dot{\\phi}\\cos{\\phi}\\sin{\\theta}+\\dot{\\theta});"
   ]
  },
  {
   "cell_type": "code",
   "execution_count": null,
   "id": "2df75aba",
   "metadata": {},
   "outputs": [],
   "source": []
  }
 ],
 "metadata": {
  "kernelspec": {
   "display_name": "Cadabra",
   "language": "python",
   "name": "cadabra"
  },
  "language_info": {
   "file_extension": ".cdb",
   "mimetype": "text/cadabra",
   "name": "cadabra",
   "version": "2.0.0"
  }
 },
 "nbformat": 4,
 "nbformat_minor": 5
}
