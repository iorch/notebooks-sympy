{
 "cells": [
  {
   "cell_type": "markdown",
   "id": "04da089c",
   "metadata": {},
   "source": [
    "Campo Electromagnético"
   ]
  },
  {
   "cell_type": "code",
   "execution_count": 39,
   "id": "6686769c",
   "metadata": {},
   "outputs": [
    {
     "data": {
      "text/markdown": [
       "${}A_{\\mu}(x^{\\alpha}) = (-\\phi(x^{\\alpha}),\\mathbf{A(x^{\\alpha})})$"
      ]
     },
     "execution_count": 39,
     "metadata": {},
     "output_type": "execute_result"
    }
   ],
   "source": [
    "Pot::LaTeXForm(\"A_{\\mu}(x^{\\alpha})\").\n",
    "ComPot::LaTeXForm(\"(-\\phi(x^{\\alpha}),\\mathbf{A(x^{\\alpha})})\").\n",
    "Def4Pot:=Pot=ComPot;"
   ]
  },
  {
   "cell_type": "code",
   "execution_count": 18,
   "id": "60b6192c",
   "metadata": {},
   "outputs": [
    {
     "data": {
      "text/markdown": [
       "${}A^{\\nu} = \\eta^{\\mu\\nu} A_{\\mu}$"
      ]
     },
     "execution_count": 18,
     "metadata": {},
     "output_type": "execute_result"
    }
   ],
   "source": [
    "MinkM::LaTeXForm(\"\\eta^{\\mu\\nu}\").\n",
    "ContraPot::LaTeXForm(\"A^{\\nu}\").\n",
    "ContraPot:=ContraPot=MinkM Pot;"
   ]
  },
  {
   "cell_type": "code",
   "execution_count": 19,
   "id": "638d9d6f",
   "metadata": {},
   "outputs": [
    {
     "data": {
      "text/markdown": [
       "${}F_{\\mu\\nu} = \\partial_{\\mu} A_{\\nu}-\\partial_{\\nu} A_{\\mu}$"
      ]
     },
     "execution_count": 19,
     "metadata": {},
     "output_type": "execute_result"
    }
   ],
   "source": [
    "TensorFar::LaTeXForm(\"F_{\\mu\\nu}\").\n",
    "DefTF::LaTeXForm(\"\\partial_{\\mu} A_{\\nu}-\\partial_{\\nu} A_{\\mu}\").\n",
    "TensorFar:=TensorFar=DefTF;"
   ]
  },
  {
   "cell_type": "code",
   "execution_count": 36,
   "id": "ee3dbfa5",
   "metadata": {},
   "outputs": [
    {
     "data": {
      "text/markdown": [
       "${}\\mathcal{L} = F^{\\nu}_{\\mu}F^{\\mu}_{\\nu}$"
      ]
     },
     "execution_count": 36,
     "metadata": {},
     "output_type": "execute_result"
    }
   ],
   "source": [
    "LagEM::LaTeXForm(\"F^{\\nu}_{\\mu}F^{\\mu}_{\\nu}\").\n",
    "lagem::LaTeXForm(\"\\mathcal{L}\").\n",
    "eqLagEM:=lagem=LagEM;"
   ]
  },
  {
   "cell_type": "markdown",
   "id": "5d604ec2",
   "metadata": {},
   "source": [
    "Tenenmos un elemento diferencial del espacio tiempo $dx^{\\mu}$. Definición: una transformación $x'^{\\mu}=f^{\\mu}(x^{\\mu})$ es una transformación de Poincaré si, y sólo si, $\\eta_{\\mu\\nu}dx^{\\mu}dx^{\\nu}=\\eta_{\\mu\\nu}dx'^{\\mu}dx'^{\\nu}$"
   ]
  },
  {
   "cell_type": "markdown",
   "id": "87482e8b",
   "metadata": {},
   "source": [
    "Proponemos la siguiente transormación: $\\mathbf{A}'(x^{\\alpha})=\\mathbf{A}(x^{\\alpha})-\\nabla\\xi(x^{\\alpha})$"
   ]
  },
  {
   "cell_type": "code",
   "execution_count": null,
   "id": "ac510fe4",
   "metadata": {},
   "outputs": [],
   "source": []
  }
 ],
 "metadata": {
  "kernelspec": {
   "display_name": "Cadabra",
   "language": "python",
   "name": "cadabra"
  },
  "language_info": {
   "file_extension": ".cdb",
   "mimetype": "text/cadabra",
   "name": "cadabra",
   "version": "2.0.0"
  }
 },
 "nbformat": 4,
 "nbformat_minor": 5
}
