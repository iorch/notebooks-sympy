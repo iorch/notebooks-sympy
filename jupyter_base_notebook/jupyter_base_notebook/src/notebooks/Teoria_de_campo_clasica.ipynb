{
 "cells": [
  {
   "cell_type": "markdown",
   "id": "571f6ecf",
   "metadata": {},
   "source": [
    "# Teoría de campo clásica:\n",
    "\n",
    "- Imaginemos que tenemos una cuerda elástica infinita, con cierta tensión en la cual se colocan N péndulos por longitud L, es decir están separados por una distancia $a=L/N$.\n",
    "- La longitud del péndulo es $l$, su masa es $m$.\n",
    "- La constante de elasticidad de la cuerda es $k$"
   ]
  },
  {
   "cell_type": "markdown",
   "id": "a961ce98",
   "metadata": {},
   "source": [
    "Para el péndulo $i$, podemos escribir su energía cómo:\n",
    "- $T_i = \\frac{m}{2}(l^2\\dot{\\phi}^2_{i}+\\dot{x}^{2}_{i})$\n",
    "- $V_i = mgl(1-\\cos{\\phi_{i}}) + \\frac{k}{2}(x_{i}-x_{i-1})^2$\n",
    "\n",
    "donde la posición del $i$-esimo péndulo es $X_i=i*a+x_i$"
   ]
  },
  {
   "cell_type": "markdown",
   "id": "0e2fea99",
   "metadata": {},
   "source": [
    "En el régimen de oscilaciones pequeñas, $\\phi_{i}\\approx0$ y también $x_{i}\\approx0$. Cuando el desplazamiento de la masa, con respecto a su posición de equilibrio, se puede aproximar $\\phi_i \\approx \\sin{\\phi_i}$, entonces podemos aproximar el desplazamiento longitudinal sobre la cuerda, como: \n",
    "\n",
    "- $x_i = \\beta \\phi_i$\n",
    "\n",
    "Tomando en cuenta esto, podemos reescribir:\n",
    "\n",
    "- $T_i = \\frac{m}{2}(l^2\\dot{\\phi}^2_{i}+\\beta\\dot{\\phi}^{2}_{i})$\n",
    "- $V_i = mgl(1-\\cos{\\phi_{i}}) + \\frac{k\\beta^2}{2}(\\phi_{i}-\\phi_{i-1})^{2}$\n",
    "- $L = \\sum_{i=-n}^{n}(T_i-V_i)$"
   ]
  },
  {
   "cell_type": "markdown",
   "id": "140e7b30",
   "metadata": {},
   "source": [
    "Tarea 1: Escribir explícitamente las ecs. De Euler-Lagrange para el i-esimo péndulo, usando sólo la coordenanda generalizada $\\phi_i$.\n",
    "\n"
   ]
  },
  {
   "cell_type": "code",
   "execution_count": null,
   "id": "60871933",
   "metadata": {},
   "outputs": [],
   "source": []
  }
 ],
 "metadata": {
  "kernelspec": {
   "display_name": "Cadabra",
   "language": "python",
   "name": "cadabra"
  },
  "language_info": {
   "file_extension": ".cdb",
   "mimetype": "text/cadabra",
   "name": "cadabra",
   "version": "2.0.0"
  }
 },
 "nbformat": 4,
 "nbformat_minor": 5
}
