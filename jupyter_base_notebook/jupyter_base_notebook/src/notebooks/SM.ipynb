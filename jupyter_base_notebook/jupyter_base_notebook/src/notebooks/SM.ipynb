{
 "cells": [
  {
   "cell_type": "markdown",
   "id": "2e7c6cae",
   "metadata": {},
   "source": [
    "# Mecánica cuántica relativista"
   ]
  },
  {
   "cell_type": "code",
   "execution_count": 3,
   "id": "b890dcee",
   "metadata": {},
   "outputs": [
    {
     "ename": "Exception",
     "evalue": "NameError: name 'Coordinat' is not defined\n\nAt:\n  <string>(2): <module>\n",
     "output_type": "error",
     "traceback": []
    },
    {
     "data": {
      "text/markdown": [
       "NameError: name 'Coordinat' is not defined\n",
       "\n",
       "At:\n",
       "  <string>(2): <module>\n"
      ]
     },
     "execution_count": 3,
     "metadata": {},
     "output_type": "execute_result"
    }
   ],
   "source": [
    "{x,y,z,t}::Coordinate\n",
    "\n",
    "{\\mu,\\nu}::Indices(values={x,y,z,t})"
   ]
  },
  {
   "cell_type": "code",
   "execution_count": 2,
   "id": "a9e14e82",
   "metadata": {},
   "outputs": [
    {
     "data": {
      "text/markdown": [
       "${}i \\hbar \\partial^{\\mu}$"
      ]
     },
     "execution_count": 2,
     "metadata": {},
     "output_type": "execute_result"
    },
    {
     "data": {
      "text/markdown": [
       "${}i \\hbar \\partial_{\\mu}$"
      ]
     },
     "execution_count": 2,
     "metadata": {},
     "output_type": "execute_result"
    }
   ],
   "source": [
    "pmu:=i*\\hbar\\partial^{\\mu};\n",
    "p_mu:=i*\\hbar\\partial_{\\mu};"
   ]
  },
  {
   "cell_type": "markdown",
   "id": "6a95b87e",
   "metadata": {},
   "source": [
    "## Ecuación de Klein-Gordon"
   ]
  },
  {
   "cell_type": "code",
   "execution_count": 5,
   "id": "7a1531fa",
   "metadata": {},
   "outputs": [
    {
     "data": {
      "text/markdown": [
       "${}\\left(\\partial_{\\mu} \\partial^{\\mu}+m^{2} c^{2} \\hbar^{-2}\\right) \\phi\\left(x , y , z , t\\right) = 0$"
      ]
     },
     "execution_count": 5,
     "metadata": {},
     "output_type": "execute_result"
    },
    {
     "data": {
      "text/markdown": [
       "${}\\partial_{\\mu} \\partial^{\\mu}+m^{2} c^{2} \\hbar^{-2}$"
      ]
     },
     "execution_count": 5,
     "metadata": {},
     "output_type": "execute_result"
    }
   ],
   "source": [
    "KG:=(\\partial_{\\mu}\\partial^{\\mu}+m^2c^2*\\hbar^{-2})\\phi(x,y,z,t)=0;\n",
    "KGOp:=(\\partial_{\\mu}\\partial^{\\mu}+m^2c^2\\hbar^{-2});"
   ]
  },
  {
   "cell_type": "code",
   "execution_count": 6,
   "id": "be302ebd",
   "metadata": {},
   "outputs": [
    {
     "data": {
      "text/markdown": [
       "${}\\left[p_{x} = p_{x},~ p_{y} = p_{y},~ p_{z} = p_{z},~ p_{t} = E_{0}\\right]$"
      ]
     },
     "execution_count": 6,
     "metadata": {},
     "output_type": "execute_result"
    }
   ],
   "source": [
    "r:=[p_{x}= p_x, p_{y}= p_y,p_{z}= p_z,p_{t}= E_0];"
   ]
  },
  {
   "cell_type": "code",
   "execution_count": 7,
   "id": "258cd179",
   "metadata": {},
   "outputs": [
    {
     "data": {
      "text/markdown": [
       "${}\\phi\\left(x , y , z , t\\right) = \\exp\\left(\\pm i \\left(p_{x} x+p_{y} y+p_{z} z-p_{t} t\\right) {\\hbar}^{-1}\\right)$"
      ]
     },
     "execution_count": 7,
     "metadata": {},
     "output_type": "execute_result"
    }
   ],
   "source": [
    "phi:=\\phi(x, y, z, t)=\\exp(\\pm*i*\\frac{(p_{x}*x+p_{y}*y+p_{z}*z-p_{t}*t)}{\\hbar});"
   ]
  },
  {
   "cell_type": "code",
   "execution_count": 8,
   "id": "dfeb08d8",
   "metadata": {},
   "outputs": [
    {
     "data": {
      "text/markdown": [
       "${}\\phi\\left(x , y , z , t\\right) = \\exp\\left(\\pm i \\left(p_{x} x+p_{y} y+p_{z} z-p_{t} t\\right) {\\hbar}^{-1}\\right)$"
      ]
     },
     "execution_count": 8,
     "metadata": {},
     "output_type": "execute_result"
    }
   ],
   "source": [
    "substitute(phi,r);"
   ]
  },
  {
   "cell_type": "code",
   "execution_count": 9,
   "id": "e1f3e800",
   "metadata": {},
   "outputs": [
    {
     "data": {
      "text/markdown": [
       "${}\\left(\\partial_{\\mu} \\partial^{\\mu}+m^{2} c^{2} \\hbar^{-2}\\right) \\exp\\left(\\pm i \\left(p_{x} x+p_{y} y+p_{z} z-p_{t} t\\right) {\\hbar}^{-1}\\right) = 0$"
      ]
     },
     "execution_count": 9,
     "metadata": {},
     "output_type": "execute_result"
    }
   ],
   "source": [
    "substitute(KG,phi);"
   ]
  },
  {
   "cell_type": "markdown",
   "id": "21bfd95a",
   "metadata": {},
   "source": [
    "## Ecuación de Dirac"
   ]
  },
  {
   "cell_type": "code",
   "execution_count": 10,
   "id": "f661566c",
   "metadata": {},
   "outputs": [
    {
     "data": {
      "text/markdown": [
       "${}\\text{Attached property Coordinate to~}\\left[x,~ y,~ z,~ t\\right].$"
      ]
     },
     "execution_count": 10,
     "metadata": {},
     "output_type": "execute_result"
    },
    {
     "data": {
      "text/markdown": [
       "${}\\text{Attached property GammaMatrix to~}\\gamma_{\\#}.$"
      ]
     },
     "execution_count": 10,
     "metadata": {},
     "output_type": "execute_result"
    },
    {
     "data": {
      "text/markdown": [
       "${}\\text{Attached property PartialDerivative to~}\\partial{\\#}.$"
      ]
     },
     "execution_count": 10,
     "metadata": {},
     "output_type": "execute_result"
    },
    {
     "data": {
      "text/markdown": [
       "${}\\text{Attached property Metric to~}g_{\\mu \\nu}.$"
      ]
     },
     "execution_count": 10,
     "metadata": {},
     "output_type": "execute_result"
    },
    {
     "data": {
      "text/markdown": [
       "${}\\text{Attached property TableauSymmetry to~}g^{\\mu \\nu}.$"
      ]
     },
     "execution_count": 10,
     "metadata": {},
     "output_type": "execute_result"
    },
    {
     "data": {
      "text/markdown": [
       "${}\\text{Attached property KroneckerDelta to~}\\delta_{\\mu \\nu}.$"
      ]
     },
     "execution_count": 10,
     "metadata": {},
     "output_type": "execute_result"
    }
   ],
   "source": [
    "{x,y,z,t}::Coordinate;\n",
    "{\\mu,\\nu}::Indices(values={x,y,z,t})\n",
    "\\gamma_{#}::GammaMatrix;\n",
    "\\partial{#}::PartialDerivative;\n",
    "g_{\\mu\\nu}::Metric;\n",
    "g^{\\mu\\nu}::InverseMetric;\n",
    "\\delta_{\\mu\\nu}::KroneckerDelta;"
   ]
  },
  {
   "cell_type": "code",
   "execution_count": 11,
   "id": "dbd1ef22",
   "metadata": {},
   "outputs": [
    {
     "data": {
      "text/markdown": [
       "${}g^{\\mu \\nu}\\left(i \\hbar \\gamma_{\\nu} \\partial_{\\mu}{\\Psi}-mc \\delta_{\\mu \\nu} \\Psi\\right) = 0$"
      ]
     },
     "execution_count": 11,
     "metadata": {},
     "output_type": "execute_result"
    }
   ],
   "source": [
    "Deq:=g^{\\mu\\nu}{i*\\hbar\\gamma_{\\nu}\\partial_{\\mu}{\\Psi}-mc\\delta_{\\mu\\nu}\\Psi}=0;"
   ]
  },
  {
   "cell_type": "markdown",
   "id": "046358ff",
   "metadata": {},
   "source": [
    "## Ec. de Maxwell como paradigma de teoría de campo"
   ]
  },
  {
   "cell_type": "code",
   "execution_count": 12,
   "id": "560b3ed6",
   "metadata": {},
   "outputs": [
    {
     "data": {
      "text/markdown": [
       "${}\\text{Attached property Coordinate to~}\\left[x,~ y,~ z,~ t\\right].$"
      ]
     },
     "execution_count": 12,
     "metadata": {},
     "output_type": "execute_result"
    },
    {
     "data": {
      "text/markdown": [
       "${}\\text{Attached property Indices(position=free) to~}\\left[\\alpha,~ \\beta,~ \\lambda,~ \\mu,~ \\nu\\right].$"
      ]
     },
     "execution_count": 12,
     "metadata": {},
     "output_type": "execute_result"
    },
    {
     "data": {
      "text/markdown": [
       "${}\\text{Attached property PartialDerivative to~}\\partial{\\#}.$"
      ]
     },
     "execution_count": 12,
     "metadata": {},
     "output_type": "execute_result"
    },
    {
     "data": {
      "text/markdown": [
       "${}\\text{Attached property Metric to~}g_{\\mu \\nu}.$"
      ]
     },
     "execution_count": 12,
     "metadata": {},
     "output_type": "execute_result"
    },
    {
     "data": {
      "text/markdown": [
       "${}\\text{Attached property TableauSymmetry to~}g^{\\mu \\nu}.$"
      ]
     },
     "execution_count": 12,
     "metadata": {},
     "output_type": "execute_result"
    },
    {
     "data": {
      "text/markdown": [
       "${}\\left[g_{t t} = 1,~ g_{x x} = -1,~ g_{y y} = -1,~ g_{z z} = -1,~ g^{x x} = -1,~ g^{y y} = -1,~ g^{z z} = -1,~ g^{t t} = 1\\right]$"
      ]
     },
     "execution_count": 12,
     "metadata": {},
     "output_type": "execute_result"
    },
    {
     "data": {
      "text/markdown": [
       "${}\\text{Attached property AntiSymmetric to~}F_{\\mu \\nu}.$"
      ]
     },
     "execution_count": 12,
     "metadata": {},
     "output_type": "execute_result"
    },
    {
     "data": {
      "text/markdown": [
       "${}\\text{Attached property Depends to~}F_{\\mu \\nu}.$"
      ]
     },
     "execution_count": 12,
     "metadata": {},
     "output_type": "execute_result"
    },
    {
     "data": {
      "text/markdown": [
       "${}\\text{Attached property Depends to~}A_{\\mu}.$"
      ]
     },
     "execution_count": 12,
     "metadata": {},
     "output_type": "execute_result"
    },
    {
     "data": {
      "text/markdown": [
       "${}F_{\\mu \\nu} = \\partial_{\\mu}{A_{\\nu}}-\\partial_{\\nu}{A_{\\mu}}$"
      ]
     },
     "execution_count": 12,
     "metadata": {},
     "output_type": "execute_result"
    },
    {
     "data": {
      "text/markdown": [
       "${}F^{\\mu \\nu} = g^{\\mu \\alpha} g^{\\nu \\beta} F_{\\alpha \\beta}$"
      ]
     },
     "execution_count": 12,
     "metadata": {},
     "output_type": "execute_result"
    },
    {
     "data": {
      "text/markdown": [
       "${}J^{\\nu} = \\partial_{\\mu}{F^{\\mu \\nu}}$"
      ]
     },
     "execution_count": 12,
     "metadata": {},
     "output_type": "execute_result"
    },
    {
     "data": {
      "text/markdown": [
       "${}J^{\\nu} = \\partial_{\\mu}\\left(\\partial^{\\mu}{A^{\\nu}}-\\partial^{\\nu}{A^{\\mu}}\\right)$"
      ]
     },
     "execution_count": 12,
     "metadata": {},
     "output_type": "execute_result"
    },
    {
     "data": {
      "text/markdown": [
       "${}\\partial_{\\nu}{J^{\\nu}}$"
      ]
     },
     "execution_count": 12,
     "metadata": {},
     "output_type": "execute_result"
    },
    {
     "data": {
      "text/markdown": [
       "${}\\partial_{\\nu \\mu}\\left(\\partial^{\\mu}{A^{\\nu}}-\\partial^{\\nu}{A^{\\mu}}\\right)$"
      ]
     },
     "execution_count": 12,
     "metadata": {},
     "output_type": "execute_result"
    },
    {
     "data": {
      "text/markdown": [
       "${}0$"
      ]
     },
     "execution_count": 12,
     "metadata": {},
     "output_type": "execute_result"
    },
    {
     "data": {
      "text/markdown": [
       "${}\\partial^{\\lambda}{F^{\\mu \\nu}}+\\partial^{\\nu}{F^{\\lambda \\mu}}+\\partial^{\\mu}{F^{\\nu \\lambda}}$"
      ]
     },
     "execution_count": 12,
     "metadata": {},
     "output_type": "execute_result"
    },
    {
     "data": {
      "text/markdown": [
       "${}\\partial^{\\lambda}{F^{\\mu \\nu}}+\\partial^{\\nu}{F^{\\lambda \\mu}}+\\partial^{\\mu}{F^{\\nu \\lambda}}$"
      ]
     },
     "execution_count": 12,
     "metadata": {},
     "output_type": "execute_result"
    },
    {
     "data": {
      "text/markdown": [
       "${}\\partial^{\\lambda}\\left(\\partial^{\\mu}{A^{\\nu}}-\\partial^{\\nu}{A^{\\mu}}\\right)+\\partial^{\\nu}\\left(\\partial^{\\lambda}{A^{\\mu}}-\\partial^{\\mu}{A^{\\lambda}}\\right)+\\partial^{\\mu}\\left(\\partial^{\\nu}{A^{\\lambda}}-\\partial^{\\lambda}{A^{\\nu}}\\right)$"
      ]
     },
     "execution_count": 12,
     "metadata": {},
     "output_type": "execute_result"
    },
    {
     "data": {
      "text/markdown": [
       "${}0$"
      ]
     },
     "execution_count": 12,
     "metadata": {},
     "output_type": "execute_result"
    }
   ],
   "source": [
    "{x,y,z,t}::Coordinate;\n",
    "{\\alpha,\\beta,\\lambda,\\mu,\\nu}::Indices(values={x,y,z,t});\n",
    "\\partial{#}::PartialDerivative;\n",
    "g_{\\mu\\nu}::Metric(signature=1);\n",
    "g^{\\mu\\nu}::InverseMetric;\n",
    "\n",
    "ss:= { g_{t t} = 1, g_{x x} = -1, g_{y y} = -1, g_{z z} = -1}.\n",
    "complete(ss, $g^{\\mu\\nu}$);\n",
    "\n",
    "F_{\\mu\\nu}::AntiSymmetric;\n",
    "F_{\\mu\\nu}::Depends(x,y,z,t);\n",
    "A_{\\mu}::Depends(x,y,z,t);\n",
    "\n",
    "FtoA:=F_{\\mu\\nu}=\\partial_{\\mu}(A_{\\nu})-\\partial_{\\nu}(A_{\\mu});\n",
    "\n",
    "Fcontra:=F^{\\mu\\nu}=g^{\\mu\\alpha}g^{\\nu\\beta}F_{\\alpha\\beta};\n",
    "\n",
    "Jcurr:=J^{\\nu}-=\\partial_{\\mu}(F^{\\mu\\nu});\n",
    "substitute(_,FtoA);\n",
    "Jcont:=\\partial_{\\nu}(J^{\\nu});\n",
    "substitute(_,Jcurr);\n",
    "unwrap(_);\n",
    "DF:=\\partial^{\\lambda}(F^{\\mu\\nu})+\\partial^{\\nu}(F^{\\lambda\\mu})+\\partial^{\\mu}(F^{\\nu\\lambda});\n",
    "substitute(_,Jcurr);\n",
    "substitute(_,FtoA);\n",
    "\n",
    "evaluate(_);\n",
    "\n"
   ]
  },
  {
   "cell_type": "markdown",
   "id": "5f88f205",
   "metadata": {},
   "source": [
    "## Soluciones de partícula libre para ec. de Dirac"
   ]
  },
  {
   "cell_type": "code",
   "execution_count": 13,
   "id": "870a9b44",
   "metadata": {},
   "outputs": [
    {
     "data": {
      "text/markdown": [
       "${}A_{a} A_{b}$"
      ]
     },
     "execution_count": 13,
     "metadata": {},
     "output_type": "execute_result"
    },
    {
     "data": {
      "text/markdown": [
       "${}\\left[A_{x} = Ax,~ A_{y} = Ay,~ A_{z} = Az\\right]$"
      ]
     },
     "execution_count": 13,
     "metadata": {},
     "output_type": "execute_result"
    },
    {
     "data": {
      "text/markdown": [
       "${}\\square{}_{a}{}_{b}\\left\\{\\begin{aligned}\\square{}_{x}{}_{x}& = {Ax}^{2}\\\\[-.5ex]\n",
       "\\square{}_{x}{}_{y}& = Ax Ay\\\\[-.5ex]\n",
       "\\square{}_{x}{}_{z}& = Ax Az\\\\[-.5ex]\n",
       "\\square{}_{y}{}_{x}& = Ax Ay\\\\[-.5ex]\n",
       "\\square{}_{y}{}_{y}& = {Ay}^{2}\\\\[-.5ex]\n",
       "\\square{}_{y}{}_{z}& = Ay Az\\\\[-.5ex]\n",
       "\\square{}_{z}{}_{x}& = Ax Az\\\\[-.5ex]\n",
       "\\square{}_{z}{}_{y}& = Ay Az\\\\[-.5ex]\n",
       "\\square{}_{z}{}_{z}& = {Az}^{2}\\\\[-.5ex]\n",
       "\\end{aligned}\\right.\n",
       "$"
      ]
     },
     "execution_count": 13,
     "metadata": {},
     "output_type": "execute_result"
    }
   ],
   "source": [
    "{a,b,c}::Indices(position=fixed,values={x,y,z}).\n",
    "{x,y,z}::Coordinate.\n",
    "ex := A_{a} A_{b};\n",
    "rl := {A_{x}=Ax,A_{y}=Ay,A_{z}=Az};\n",
    "evaluate(ex,rl,rhsonly=True);"
   ]
  },
  {
   "cell_type": "code",
   "execution_count": 14,
   "id": "cf28308b",
   "metadata": {},
   "outputs": [
    {
     "data": {
      "text/markdown": [
       "${}\\text{Attached property Indices(position=free) to~}\\left[a,~ b,~ c,~ d,~ e\\right].$"
      ]
     },
     "execution_count": 14,
     "metadata": {},
     "output_type": "execute_result"
    },
    {
     "data": {
      "text/markdown": [
       "${}\\text{Attached property Integer to~}\\left[a,~ b,~ c,~ d,~ e\\right].$"
      ]
     },
     "execution_count": 14,
     "metadata": {},
     "output_type": "execute_result"
    },
    {
     "data": {
      "text/markdown": [
       "${}\\text{Attached property Indices(position=free) to~}\\left[\\alpha,~ \\beta,~ \\gamma,~ \\eta\\right].$"
      ]
     },
     "execution_count": 14,
     "metadata": {},
     "output_type": "execute_result"
    },
    {
     "data": {
      "text/markdown": [
       "${}\\text{Attached property PartialDerivative to~}\\partial{\\#}.$"
      ]
     },
     "execution_count": 14,
     "metadata": {},
     "output_type": "execute_result"
    },
    {
     "data": {
      "text/markdown": [
       "${}\\text{Attached property Depends to~}\\Psi\\left(\\#\\right).$"
      ]
     },
     "execution_count": 14,
     "metadata": {},
     "output_type": "execute_result"
    },
    {
     "data": {
      "text/markdown": [
       "${}\\text{Attached property GammaMatrix to~}\\Gamma_{\\#}.$"
      ]
     },
     "execution_count": 14,
     "metadata": {},
     "output_type": "execute_result"
    },
    {
     "data": {
      "text/markdown": [
       "${}\\text{Attached property KroneckerDelta to~}\\delta\\left(\\#\\right).$"
      ]
     },
     "execution_count": 14,
     "metadata": {},
     "output_type": "execute_result"
    },
    {
     "data": {
      "text/markdown": [
       "None"
      ]
     },
     "execution_count": 14,
     "metadata": {},
     "output_type": "execute_result"
    },
    {
     "data": {
      "text/markdown": [
       "${}\\Gamma^{a b} \\Psi_{b a}+\\Gamma^{a b} \\Psi_{a b}$"
      ]
     },
     "execution_count": 14,
     "metadata": {},
     "output_type": "execute_result"
    },
    {
     "data": {
      "text/markdown": [
       "${}0$"
      ]
     },
     "execution_count": 14,
     "metadata": {},
     "output_type": "execute_result"
    },
    {
     "data": {
      "text/markdown": [
       "None"
      ]
     },
     "execution_count": 14,
     "metadata": {},
     "output_type": "execute_result"
    },
    {
     "data": {
      "text/markdown": [
       "${}\\left(\\Gamma^{a b}\\right)\\,_{\\alpha \\beta} \\left(\\Psi_{b a}\\right)\\,_{\\gamma \\eta}+\\left(\\Gamma^{a b}\\right)\\,_{\\alpha \\beta} \\left(\\Psi_{a b}\\right)\\,_{\\gamma \\eta}$"
      ]
     },
     "execution_count": 14,
     "metadata": {},
     "output_type": "execute_result"
    },
    {
     "data": {
      "text/markdown": [
       "${}\\left(\\Gamma^{a b}\\right)\\,_{\\alpha \\beta} \\left(\\Psi_{b a}\\right)\\,_{\\gamma \\eta}+\\left(\\Gamma^{a b}\\right)\\,_{\\alpha \\beta} \\left(\\Psi_{a b}\\right)\\,_{\\gamma \\eta}$"
      ]
     },
     "execution_count": 14,
     "metadata": {},
     "output_type": "execute_result"
    },
    {
     "data": {
      "text/markdown": [
       "None"
      ]
     },
     "execution_count": 14,
     "metadata": {},
     "output_type": "execute_result"
    },
    {
     "data": {
      "text/markdown": [
       "${}\\left(\\Gamma^{a b}\\right)\\,_{\\alpha \\beta} \\left(\\Psi_{b a}\\right)\\,_{\\gamma \\eta}$"
      ]
     },
     "execution_count": 14,
     "metadata": {},
     "output_type": "execute_result"
    },
    {
     "data": {
      "text/markdown": [
       "${}\\left(\\Gamma^{b a}\\right)\\,_{\\alpha \\beta} \\left(\\Psi_{a b}\\right)\\,_{\\gamma \\eta}$"
      ]
     },
     "execution_count": 14,
     "metadata": {},
     "output_type": "execute_result"
    },
    {
     "data": {
      "text/markdown": [
       "${}\\left(-\\Gamma^{a b}\\right)\\,_{\\alpha \\beta} \\left(\\Psi_{a b}\\right)\\,_{\\gamma \\eta}$"
      ]
     },
     "execution_count": 14,
     "metadata": {},
     "output_type": "execute_result"
    },
    {
     "data": {
      "text/markdown": [
       "\n",
       "test 1\n",
       "\n",
       "test 2\n",
       "\n",
       "test 3\n"
      ]
     },
     "execution_count": 14,
     "metadata": {},
     "output_type": "execute_result"
    }
   ],
   "source": [
    "{a,b,c,d,e}::Indices(vector);\n",
    "{a,b,c,d,e}::Integer(0..10);\n",
    "{\\alpha,\\beta,\\gamma,\\eta}::Indices(spinor);\n",
    "\\partial{#}::PartialDerivative;\n",
    "\\Psi{#}::Depends(\\partial{#});\n",
    "\\Gamma_{#}::GammaMatrix(metric=\\delta);\n",
    "\\delta{#}::KroneckerDelta;\n",
    "\n",
    "print('\\ntest 1');\n",
    "ex := \\Gamma^{a b} \\Psi_{b a} + \\Gamma^{a b} \\Psi_{a b};\n",
    "canonicalise(ex);\n",
    "\n",
    "print('\\ntest 2');\n",
    "ex := (\\Gamma^{a b})_{\\alpha \\beta} (\\Psi_{b a})_{\\gamma \\eta} + (\\Gamma^{a b})_{\\alpha \\beta} (\\Psi_{a b})_{\\gamma \\eta};\n",
    "canonicalise(ex);\n",
    "\n",
    "print('\\ntest 3');\n",
    "ex := (\\Gamma^{a b})_{\\alpha \\beta} (\\Psi_{b a})_{\\gamma \\eta};\n",
    "substitute(ex, $_{a} -> _{b}, ^{a} -> ^{b}, _{b} -> _{a}, ^{b} -> ^{a}$);\n",
    "canonicalise(ex);"
   ]
  },
  {
   "cell_type": "code",
   "execution_count": 15,
   "id": "11ecad9a",
   "metadata": {},
   "outputs": [
    {
     "data": {
      "text/markdown": [
       "None"
      ]
     },
     "execution_count": 15,
     "metadata": {},
     "output_type": "execute_result"
    },
    {
     "data": {
      "text/markdown": [
       "${}\\Gamma_{b c} \\Gamma^{b c d} \\delta_{a}\\,^{e} \\Psi_{e d}$"
      ]
     },
     "execution_count": 15,
     "metadata": {},
     "output_type": "execute_result"
    },
    {
     "ename": "Exception",
     "evalue": "RuntimeError: Triple index occurred.\n\nAt:\n  <string>(4): <module>\n",
     "output_type": "error",
     "traceback": []
    },
    {
     "data": {
      "text/markdown": [
       "RuntimeError: Triple index occurred.\n",
       "\n",
       "At:\n",
       "  <string>(4): <module>\n"
      ]
     },
     "execution_count": 15,
     "metadata": {},
     "output_type": "execute_result"
    }
   ],
   "source": [
    "print('\\ntest 4');\n",
    "ex := \\Gamma_{b c} \\Gamma^{b c d} \\delta_{a}^{e} \\Psi_{e d};\n",
    "substitute(ex, $_{e} -> _{b}, ^{e} -> ^{b}, _{b} -> _{c}, ^{b} -> ^{c}, _{c} -> _{d}, ^{c} -> ^{d}, _{d} -> _{e}, ^{d} -> ^{e}$);"
   ]
  },
  {
   "cell_type": "code",
   "execution_count": 16,
   "id": "26f862e5",
   "metadata": {},
   "outputs": [
    {
     "data": {
      "text/markdown": [
       "None"
      ]
     },
     "execution_count": 16,
     "metadata": {},
     "output_type": "execute_result"
    },
    {
     "data": {
      "text/markdown": [
       "${}\\Gamma_{b c} \\Gamma^{b c d} \\delta_{a}\\,^{e} \\partial_{e}{\\Psi_{d}}$"
      ]
     },
     "execution_count": 16,
     "metadata": {},
     "output_type": "execute_result"
    },
    {
     "ename": "Exception",
     "evalue": "RuntimeError: Triple index occurred.\n\nAt:\n  <string>(4): <module>\n",
     "output_type": "error",
     "traceback": []
    },
    {
     "data": {
      "text/markdown": [
       "RuntimeError: Triple index occurred.\n",
       "\n",
       "At:\n",
       "  <string>(4): <module>\n"
      ]
     },
     "execution_count": 16,
     "metadata": {},
     "output_type": "execute_result"
    }
   ],
   "source": [
    "print('\\ntest 5');\n",
    "ex := \\Gamma_{b c} \\Gamma^{b c d} \\delta_{a}^{e} \\partial_{e}(\\Psi_{d});\n",
    "substitute(ex, $_{e} -> _{b}, ^{e} -> ^{b}, _{b} -> _{c}, ^{b} -> ^{c}, _{c} -> _{d}, ^{c} -> ^{d}, _{d} -> _{e}, ^{d} -> ^{e}$);\n"
   ]
  },
  {
   "cell_type": "code",
   "execution_count": null,
   "id": "c824fcb1",
   "metadata": {},
   "outputs": [],
   "source": []
  },
  {
   "cell_type": "code",
   "execution_count": null,
   "id": "70c6c311",
   "metadata": {},
   "outputs": [],
   "source": []
  },
  {
   "cell_type": "code",
   "execution_count": null,
   "id": "aa4b12f4",
   "metadata": {},
   "outputs": [],
   "source": []
  },
  {
   "cell_type": "code",
   "execution_count": null,
   "id": "bdab3d44",
   "metadata": {},
   "outputs": [],
   "source": []
  },
  {
   "cell_type": "code",
   "execution_count": null,
   "id": "15a95e3d",
   "metadata": {},
   "outputs": [],
   "source": []
  }
 ],
 "metadata": {
  "kernelspec": {
   "display_name": "Cadabra",
   "language": "python",
   "name": "cadabra"
  },
  "language_info": {
   "file_extension": ".cdb",
   "mimetype": "text/cadabra",
   "name": "cadabra",
   "version": "2.0.0"
  }
 },
 "nbformat": 4,
 "nbformat_minor": 5
}
