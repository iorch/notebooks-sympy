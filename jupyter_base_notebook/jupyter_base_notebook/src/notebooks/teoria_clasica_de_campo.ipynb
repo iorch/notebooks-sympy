{
 "cells": [
  {
   "cell_type": "markdown",
   "id": "b74be3d1",
   "metadata": {},
   "source": [
    "# Teoría Clásica de Campo"
   ]
  },
  {
   "cell_type": "markdown",
   "id": "4499c47b",
   "metadata": {},
   "source": [
    "Podemos tratar los campos como un medio continuo generalizado. Describamos los formalismos Lagrangianos y Hamiltonianos para los medios continuos."
   ]
  },
  {
   "cell_type": "code",
   "execution_count": 1,
   "id": "9ee512f3",
   "metadata": {},
   "outputs": [
    {
     "data": {
      "text/markdown": [
       "${}\\text{Attached property Indices(position=free) to~}\\left[i,~ j,~ k\\right].$"
      ]
     },
     "execution_count": 1,
     "metadata": {},
     "output_type": "execute_result"
    },
    {
     "data": {
      "text/markdown": [
       "${}\\text{Attached property Coordinate to~}s.$"
      ]
     },
     "execution_count": 1,
     "metadata": {},
     "output_type": "execute_result"
    },
    {
     "data": {
      "text/markdown": [
       "${}\\text{Attached property Depends to~}\\varphi_{i}.$"
      ]
     },
     "execution_count": 1,
     "metadata": {},
     "output_type": "execute_result"
    },
    {
     "data": {
      "text/markdown": [
       "${}\\text{Attached property Depends to~}x.$"
      ]
     },
     "execution_count": 1,
     "metadata": {},
     "output_type": "execute_result"
    },
    {
     "data": {
      "text/markdown": [
       "${}\\text{Attached property Derivative to~}\\nabla{\\#}.$"
      ]
     },
     "execution_count": 1,
     "metadata": {},
     "output_type": "execute_result"
    }
   ],
   "source": [
    "{i, j, k}::Indices(position=free);\n",
    "{s}::Coordinate;\n",
    "phi_{i}::LaTeXForm(\"\\varphi\").\n",
    "phi_{i}::Depends(s);\n",
    "x::Depends(s);\n",
    "\\nabla{#}::Derivative;"
   ]
  },
  {
   "cell_type": "code",
   "execution_count": 2,
   "id": "e1465e1d",
   "metadata": {},
   "outputs": [
    {
     "data": {
      "text/markdown": [
       "${}x_{i} \\rightarrow \\beta \\varphi_{i}$"
      ]
     },
     "execution_count": 2,
     "metadata": {},
     "output_type": "execute_result"
    },
    {
     "data": {
      "text/markdown": [
       "${}\\nabla_{s}{\\beta} = 0$"
      ]
     },
     "execution_count": 2,
     "metadata": {},
     "output_type": "execute_result"
    },
    {
     "data": {
      "text/markdown": [
       "${}\\nabla_{s}{\\varphi_{i}} = \\dot{\\varphi}_{i}$"
      ]
     },
     "execution_count": 2,
     "metadata": {},
     "output_type": "execute_result"
    },
    {
     "data": {
      "text/markdown": [
       "${}\\nabla_{s}{x_{i}} = \\dot{x}_{i}$"
      ]
     },
     "execution_count": 2,
     "metadata": {},
     "output_type": "execute_result"
    }
   ],
   "source": [
    "xtophi:=x_{i}->\\beta*phi_{i};\n",
    "\n",
    "betaconst:=\\nabla_{s}{\\beta}=0;\n",
    "dotx_{i}::LaTeXForm(\"\\dot{x}\").\n",
    "dotx2_{i}::LaTeXForm(\"\\dot{x}^{2}\").\n",
    "dotphii_{i}::LaTeXForm(\"\\dot{\\varphi}\").\n",
    "dotphii2_{i}::LaTeXForm(\"\\dot{\\varphi}^{2}\").\n",
    "dotphi:=\\nabla_{s}{phi_{i}}=dotphii_{i};\n",
    "dotx:=\\nabla_{s}{x_{i}}=dotx_{i};"
   ]
  },
  {
   "cell_type": "code",
   "execution_count": 3,
   "id": "fed52ec1",
   "metadata": {},
   "outputs": [
    {
     "data": {
      "text/markdown": [
       "${}\\nabla_{s}\\left(x_{i} x_{j}\\right)$"
      ]
     },
     "execution_count": 3,
     "metadata": {},
     "output_type": "execute_result"
    },
    {
     "data": {
      "text/markdown": [
       "${}\\nabla_{s}\\left(\\beta \\varphi_{i} \\beta \\varphi_{j}\\right)$"
      ]
     },
     "execution_count": 3,
     "metadata": {},
     "output_type": "execute_result"
    },
    {
     "data": {
      "text/markdown": [
       "${}\\nabla_{s}\\left({\\beta}^{2} \\varphi_{i} \\varphi_{j}\\right)$"
      ]
     },
     "execution_count": 3,
     "metadata": {},
     "output_type": "execute_result"
    },
    {
     "data": {
      "text/markdown": [
       "${}\\nabla_{s}{{\\beta}^{2}} \\varphi_{i} \\varphi_{j}+{\\beta}^{2} \\nabla_{s}{\\varphi_{i}} \\varphi_{j}+{\\beta}^{2} \\varphi_{i} \\nabla_{s}{\\varphi_{j}}$"
      ]
     },
     "execution_count": 3,
     "metadata": {},
     "output_type": "execute_result"
    },
    {
     "data": {
      "text/markdown": [
       "${}\\nabla_{s}{{\\beta}^{2}} \\varphi_{i} \\varphi_{j}+{\\beta}^{2} \\dot{\\varphi}_{i} \\varphi_{j}+{\\beta}^{2} \\varphi_{i} \\dot{\\varphi}_{j}$"
      ]
     },
     "execution_count": 3,
     "metadata": {},
     "output_type": "execute_result"
    },
    {
     "data": {
      "text/markdown": [
       "${}2\\beta \\nabla_{s}{\\beta} \\varphi_{i} \\varphi_{j}+{\\beta}^{2} \\dot{\\varphi}_{i} \\varphi_{j}+{\\beta}^{2} \\varphi_{i} \\dot{\\varphi}_{j}$"
      ]
     },
     "execution_count": 3,
     "metadata": {},
     "output_type": "execute_result"
    },
    {
     "data": {
      "text/markdown": [
       "${}{\\beta}^{2} \\dot{\\varphi}_{i} \\varphi_{j}+{\\beta}^{2} \\varphi_{i} \\dot{\\varphi}_{j}$"
      ]
     },
     "execution_count": 3,
     "metadata": {},
     "output_type": "execute_result"
    }
   ],
   "source": [
    "ex:=\\nabla_{s}{x_{i}*x_{j}};\n",
    "substitute(_,xtophi);\n",
    "evaluate(_);\n",
    "product_rule(_);\n",
    "substitute(_,dotphi);\n",
    "product_rule(_);\n",
    "substitute(_,betaconst);"
   ]
  },
  {
   "cell_type": "code",
   "execution_count": 4,
   "id": "330ba307",
   "metadata": {},
   "outputs": [
    {
     "data": {
      "text/markdown": [
       "${}T = \\frac{1}{2}m \\delta_{i j} \\left({l}^{2} \\dot{\\varphi}_{i} \\dot{\\varphi}_{j}+\\dot{x}_{i} \\dot{x}_{j}\\right)$"
      ]
     },
     "execution_count": 4,
     "metadata": {},
     "output_type": "execute_result"
    }
   ],
   "source": [
    "\\delta_{i j}::KroneckerDelta.\n",
    "KinE:=T=\\frac{1}{2}*m*\\delta_{i j}*((l**2)*dotphii_{i}*dotphii_{j}+dotx_{i}*dotx_{j});"
   ]
  },
  {
   "cell_type": "code",
   "execution_count": 5,
   "id": "94ab7a08",
   "metadata": {},
   "outputs": [
    {
     "data": {
      "text/markdown": [
       "${}V = m g l \\delta_{i j} {l}^{2} \\dot{\\varphi}_{i} \\dot{\\varphi}_{j}+1-\\cos\\left(\\sqrt{\\delta^{i j} \\varphi_{i} \\varphi_{j}}\\right)$"
      ]
     },
     "execution_count": 5,
     "metadata": {},
     "output_type": "execute_result"
    }
   ],
   "source": [
    "PotE:=V=m*g*l*\\delta_{i j}*((l**2)*dotphii_{i}*dotphii_{j}+dotx_{k}*(\\delta_{k i}-\\delta_{k i})*dotx_{j}) +\n",
    " (1-\\cos(\\sqrt(\\delta^{i j}phi_{i}*phi_{j})));"
   ]
  },
  {
   "cell_type": "code",
   "execution_count": 6,
   "id": "94307021",
   "metadata": {},
   "outputs": [
    {
     "data": {
      "text/markdown": [
       "${}T+V$"
      ]
     },
     "execution_count": 6,
     "metadata": {},
     "output_type": "execute_result"
    },
    {
     "data": {
      "text/markdown": [
       "${}\\frac{1}{2}m \\delta_{i j} \\left({l}^{2} \\dot{\\varphi}_{i} \\dot{\\varphi}_{j}+\\dot{x}_{i} \\dot{x}_{j}\\right)+V$"
      ]
     },
     "execution_count": 6,
     "metadata": {},
     "output_type": "execute_result"
    },
    {
     "data": {
      "text/markdown": [
       "${}\\frac{1}{2}m \\delta_{i j} \\left({l}^{2} \\dot{\\varphi}_{i} \\dot{\\varphi}_{j}+\\dot{x}_{i} \\dot{x}_{j}\\right)+m g l \\delta_{i j} {l}^{2} \\dot{\\varphi}_{i} \\dot{\\varphi}_{j}+1-\\cos\\left(\\sqrt{\\delta^{i j} \\varphi_{i} \\varphi_{j}}\\right)$"
      ]
     },
     "execution_count": 6,
     "metadata": {},
     "output_type": "execute_result"
    },
    {
     "ename": "Exception",
     "evalue": "RuntimeError: evaluate: Do not know values of index i.\n\nAt:\n  <string>(5): <module>\n",
     "output_type": "error",
     "traceback": []
    },
    {
     "data": {
      "text/markdown": [
       "RuntimeError: evaluate: Do not know values of index i.\n",
       "\n",
       "At:\n",
       "  <string>(5): <module>\n"
      ]
     },
     "execution_count": 6,
     "metadata": {},
     "output_type": "execute_result"
    }
   ],
   "source": [
    "E:=T+V;\n",
    "substitute(_,KinE);\n",
    "substitute(_,PotE);\n",
    "evaluate(_);"
   ]
  },
  {
   "cell_type": "code",
   "execution_count": null,
   "id": "c964791d",
   "metadata": {},
   "outputs": [],
   "source": []
  }
 ],
 "metadata": {
  "kernelspec": {
   "display_name": "Cadabra",
   "language": "python",
   "name": "cadabra"
  },
  "language_info": {
   "file_extension": ".cdb",
   "mimetype": "text/cadabra",
   "name": "cadabra",
   "version": "2.0.0"
  }
 },
 "nbformat": 4,
 "nbformat_minor": 5
}
